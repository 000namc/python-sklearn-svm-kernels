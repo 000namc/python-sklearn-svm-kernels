{
 "cells": [
  {
   "cell_type": "code",
   "execution_count": 148,
   "metadata": {},
   "outputs": [],
   "source": [
    "import os\n",
    "import sys\n",
    "import pandas as pd\n",
    "import numpy as np"
   ]
  },
  {
   "cell_type": "markdown",
   "metadata": {},
   "source": [
    "## breast_cancer"
   ]
  },
  {
   "cell_type": "code",
   "execution_count": 149,
   "metadata": {},
   "outputs": [],
   "source": [
    "data_name = 'breast_cancer'\n",
    "data = pd.read_csv('data/original/breast-cancer-wisconsin.data',header = None)"
   ]
  },
  {
   "cell_type": "code",
   "execution_count": 150,
   "metadata": {},
   "outputs": [],
   "source": [
    "cols = ['id','clump_thickness','uniformity_cell_size'\n",
    "       ,'uniformity_cell_shape','marginal_adhesion'\n",
    "       ,'single_epithelial_cell_size','bare_nuclei'\n",
    "       ,'bland_chromatin','normal_nucleoli','mitoses'\n",
    "       ,'target']"
   ]
  },
  {
   "cell_type": "code",
   "execution_count": 151,
   "metadata": {},
   "outputs": [],
   "source": [
    "data.columns = cols\n",
    "data = data.iloc[:,1:].copy()\n",
    "data['bare_nuclei'] = data['bare_nuclei'].apply(str)\n",
    "data = data.loc[data['bare_nuclei'] != '?',:].copy()\n",
    "data.index = range(len(data))\n",
    "data['bare_nuclei'] = data['bare_nuclei'].apply(int)\n",
    "\n"
   ]
  },
  {
   "cell_type": "code",
   "execution_count": 152,
   "metadata": {},
   "outputs": [],
   "source": [
    "cols = list(data.columns)\n",
    "cols.remove('target')\n",
    "data[cols] = (data[cols] - data[cols].mean())/data[cols].std()"
   ]
  },
  {
   "cell_type": "code",
   "execution_count": 153,
   "metadata": {},
   "outputs": [],
   "source": [
    "data.to_csv('data/processed/' + data_name + '.csv',index = False)\n"
   ]
  },
  {
   "cell_type": "code",
   "execution_count": 154,
   "metadata": {},
   "outputs": [
    {
     "data": {
      "text/plain": [
       "(683, 10)"
      ]
     },
     "execution_count": 154,
     "metadata": {},
     "output_type": "execute_result"
    }
   ],
   "source": [
    "data.shape"
   ]
  },
  {
   "cell_type": "code",
   "execution_count": 155,
   "metadata": {},
   "outputs": [
    {
     "data": {
      "text/html": [
       "<div>\n",
       "<style scoped>\n",
       "    .dataframe tbody tr th:only-of-type {\n",
       "        vertical-align: middle;\n",
       "    }\n",
       "\n",
       "    .dataframe tbody tr th {\n",
       "        vertical-align: top;\n",
       "    }\n",
       "\n",
       "    .dataframe thead th {\n",
       "        text-align: right;\n",
       "    }\n",
       "</style>\n",
       "<table border=\"1\" class=\"dataframe\">\n",
       "  <thead>\n",
       "    <tr style=\"text-align: right;\">\n",
       "      <th></th>\n",
       "      <th>clump_thickness</th>\n",
       "      <th>uniformity_cell_size</th>\n",
       "      <th>uniformity_cell_shape</th>\n",
       "      <th>marginal_adhesion</th>\n",
       "      <th>single_epithelial_cell_size</th>\n",
       "      <th>bare_nuclei</th>\n",
       "      <th>bland_chromatin</th>\n",
       "      <th>normal_nucleoli</th>\n",
       "      <th>mitoses</th>\n",
       "      <th>target</th>\n",
       "    </tr>\n",
       "  </thead>\n",
       "  <tbody>\n",
       "    <tr>\n",
       "      <th>0</th>\n",
       "      <td>0.197760</td>\n",
       "      <td>-0.701698</td>\n",
       "      <td>-0.741230</td>\n",
       "      <td>-0.638897</td>\n",
       "      <td>-0.555202</td>\n",
       "      <td>-0.698341</td>\n",
       "      <td>-0.181694</td>\n",
       "      <td>-0.612478</td>\n",
       "      <td>-0.348145</td>\n",
       "      <td>2</td>\n",
       "    </tr>\n",
       "    <tr>\n",
       "      <th>1</th>\n",
       "      <td>0.197760</td>\n",
       "      <td>0.277049</td>\n",
       "      <td>0.262591</td>\n",
       "      <td>0.757477</td>\n",
       "      <td>1.693925</td>\n",
       "      <td>1.771569</td>\n",
       "      <td>-0.181694</td>\n",
       "      <td>-0.284896</td>\n",
       "      <td>-0.348145</td>\n",
       "      <td>2</td>\n",
       "    </tr>\n",
       "    <tr>\n",
       "      <th>2</th>\n",
       "      <td>-0.511269</td>\n",
       "      <td>-0.701698</td>\n",
       "      <td>-0.741230</td>\n",
       "      <td>-0.638897</td>\n",
       "      <td>-0.555202</td>\n",
       "      <td>-0.423907</td>\n",
       "      <td>-0.181694</td>\n",
       "      <td>-0.612478</td>\n",
       "      <td>-0.348145</td>\n",
       "      <td>2</td>\n",
       "    </tr>\n",
       "    <tr>\n",
       "      <th>3</th>\n",
       "      <td>0.552274</td>\n",
       "      <td>1.582044</td>\n",
       "      <td>1.601018</td>\n",
       "      <td>-0.638897</td>\n",
       "      <td>-0.105376</td>\n",
       "      <td>0.124962</td>\n",
       "      <td>-0.181694</td>\n",
       "      <td>1.353016</td>\n",
       "      <td>-0.348145</td>\n",
       "      <td>2</td>\n",
       "    </tr>\n",
       "    <tr>\n",
       "      <th>4</th>\n",
       "      <td>-0.156754</td>\n",
       "      <td>-0.701698</td>\n",
       "      <td>-0.741230</td>\n",
       "      <td>0.059290</td>\n",
       "      <td>-0.555202</td>\n",
       "      <td>-0.698341</td>\n",
       "      <td>-0.181694</td>\n",
       "      <td>-0.612478</td>\n",
       "      <td>-0.348145</td>\n",
       "      <td>2</td>\n",
       "    </tr>\n",
       "  </tbody>\n",
       "</table>\n",
       "</div>"
      ],
      "text/plain": [
       "   clump_thickness  uniformity_cell_size  uniformity_cell_shape  \\\n",
       "0         0.197760             -0.701698              -0.741230   \n",
       "1         0.197760              0.277049               0.262591   \n",
       "2        -0.511269             -0.701698              -0.741230   \n",
       "3         0.552274              1.582044               1.601018   \n",
       "4        -0.156754             -0.701698              -0.741230   \n",
       "\n",
       "   marginal_adhesion  single_epithelial_cell_size  bare_nuclei  \\\n",
       "0          -0.638897                    -0.555202    -0.698341   \n",
       "1           0.757477                     1.693925     1.771569   \n",
       "2          -0.638897                    -0.555202    -0.423907   \n",
       "3          -0.638897                    -0.105376     0.124962   \n",
       "4           0.059290                    -0.555202    -0.698341   \n",
       "\n",
       "   bland_chromatin  normal_nucleoli   mitoses  target  \n",
       "0        -0.181694        -0.612478 -0.348145       2  \n",
       "1        -0.181694        -0.284896 -0.348145       2  \n",
       "2        -0.181694        -0.612478 -0.348145       2  \n",
       "3        -0.181694         1.353016 -0.348145       2  \n",
       "4        -0.181694        -0.612478 -0.348145       2  "
      ]
     },
     "execution_count": 155,
     "metadata": {},
     "output_type": "execute_result"
    }
   ],
   "source": [
    "data.head()"
   ]
  },
  {
   "cell_type": "code",
   "execution_count": 156,
   "metadata": {},
   "outputs": [
    {
     "data": {
      "text/plain": [
       "2    444\n",
       "4    239\n",
       "Name: target, dtype: int64"
      ]
     },
     "execution_count": 156,
     "metadata": {},
     "output_type": "execute_result"
    }
   ],
   "source": [
    "data['target'].value_counts()"
   ]
  },
  {
   "cell_type": "code",
   "execution_count": null,
   "metadata": {},
   "outputs": [],
   "source": []
  },
  {
   "cell_type": "markdown",
   "metadata": {},
   "source": [
    "## yeast"
   ]
  },
  {
   "cell_type": "code",
   "execution_count": 157,
   "metadata": {},
   "outputs": [],
   "source": [
    "data_name = 'yeast'\n",
    "data = pd.read_csv('data/original/yeast.data',sep = '\\s+',header = None)"
   ]
  },
  {
   "cell_type": "code",
   "execution_count": 158,
   "metadata": {},
   "outputs": [],
   "source": [
    "cols = ['sequence_name','mcg','gvh','alm','mit'\n",
    "       ,'erl','pox','vac','nuc','target']"
   ]
  },
  {
   "cell_type": "code",
   "execution_count": 159,
   "metadata": {},
   "outputs": [],
   "source": [
    "data.columns = cols\n",
    "data = data.iloc[:,1:].copy()"
   ]
  },
  {
   "cell_type": "code",
   "execution_count": null,
   "metadata": {},
   "outputs": [],
   "source": []
  },
  {
   "cell_type": "code",
   "execution_count": 160,
   "metadata": {},
   "outputs": [],
   "source": [
    "cols = list(data.columns)\n",
    "cols.remove('target')\n",
    "data[cols] = (data[cols] - data[cols].mean())/data[cols].std()"
   ]
  },
  {
   "cell_type": "code",
   "execution_count": 161,
   "metadata": {},
   "outputs": [],
   "source": [
    "data.to_csv('data/processed/' + data_name + '.csv',index = False)\n"
   ]
  },
  {
   "cell_type": "code",
   "execution_count": 162,
   "metadata": {
    "scrolled": true
   },
   "outputs": [
    {
     "data": {
      "text/plain": [
       "(1484, 9)"
      ]
     },
     "execution_count": 162,
     "metadata": {},
     "output_type": "execute_result"
    }
   ],
   "source": [
    "data.shape"
   ]
  },
  {
   "cell_type": "code",
   "execution_count": 163,
   "metadata": {},
   "outputs": [
    {
     "data": {
      "text/html": [
       "<div>\n",
       "<style scoped>\n",
       "    .dataframe tbody tr th:only-of-type {\n",
       "        vertical-align: middle;\n",
       "    }\n",
       "\n",
       "    .dataframe tbody tr th {\n",
       "        vertical-align: top;\n",
       "    }\n",
       "\n",
       "    .dataframe thead th {\n",
       "        text-align: right;\n",
       "    }\n",
       "</style>\n",
       "<table border=\"1\" class=\"dataframe\">\n",
       "  <thead>\n",
       "    <tr style=\"text-align: right;\">\n",
       "      <th></th>\n",
       "      <th>mcg</th>\n",
       "      <th>gvh</th>\n",
       "      <th>alm</th>\n",
       "      <th>mit</th>\n",
       "      <th>erl</th>\n",
       "      <th>pox</th>\n",
       "      <th>vac</th>\n",
       "      <th>nuc</th>\n",
       "      <th>target</th>\n",
       "    </tr>\n",
       "  </thead>\n",
       "  <tbody>\n",
       "    <tr>\n",
       "      <th>0</th>\n",
       "      <td>0.581785</td>\n",
       "      <td>0.888182</td>\n",
       "      <td>-0.346528</td>\n",
       "      <td>-0.956880</td>\n",
       "      <td>-0.097557</td>\n",
       "      <td>-0.099098</td>\n",
       "      <td>-0.344059</td>\n",
       "      <td>-0.527741</td>\n",
       "      <td>MIT</td>\n",
       "    </tr>\n",
       "    <tr>\n",
       "      <th>1</th>\n",
       "      <td>-0.510719</td>\n",
       "      <td>1.372348</td>\n",
       "      <td>-0.231148</td>\n",
       "      <td>0.064290</td>\n",
       "      <td>-0.097557</td>\n",
       "      <td>-0.099098</td>\n",
       "      <td>0.521044</td>\n",
       "      <td>-0.527741</td>\n",
       "      <td>MIT</td>\n",
       "    </tr>\n",
       "    <tr>\n",
       "      <th>2</th>\n",
       "      <td>1.018787</td>\n",
       "      <td>0.968876</td>\n",
       "      <td>-0.115769</td>\n",
       "      <td>-0.810999</td>\n",
       "      <td>-0.097557</td>\n",
       "      <td>-0.099098</td>\n",
       "      <td>0.521044</td>\n",
       "      <td>-0.527741</td>\n",
       "      <td>MIT</td>\n",
       "    </tr>\n",
       "    <tr>\n",
       "      <th>3</th>\n",
       "      <td>0.581785</td>\n",
       "      <td>-0.483623</td>\n",
       "      <td>0.807270</td>\n",
       "      <td>-0.956880</td>\n",
       "      <td>-0.097557</td>\n",
       "      <td>-0.099098</td>\n",
       "      <td>0.694064</td>\n",
       "      <td>-0.527741</td>\n",
       "      <td>NUC</td>\n",
       "    </tr>\n",
       "    <tr>\n",
       "      <th>4</th>\n",
       "      <td>-0.583552</td>\n",
       "      <td>-0.483623</td>\n",
       "      <td>-0.231148</td>\n",
       "      <td>2.033690</td>\n",
       "      <td>-0.097557</td>\n",
       "      <td>-0.099098</td>\n",
       "      <td>-0.344059</td>\n",
       "      <td>-0.527741</td>\n",
       "      <td>MIT</td>\n",
       "    </tr>\n",
       "  </tbody>\n",
       "</table>\n",
       "</div>"
      ],
      "text/plain": [
       "        mcg       gvh       alm       mit       erl       pox       vac  \\\n",
       "0  0.581785  0.888182 -0.346528 -0.956880 -0.097557 -0.099098 -0.344059   \n",
       "1 -0.510719  1.372348 -0.231148  0.064290 -0.097557 -0.099098  0.521044   \n",
       "2  1.018787  0.968876 -0.115769 -0.810999 -0.097557 -0.099098  0.521044   \n",
       "3  0.581785 -0.483623  0.807270 -0.956880 -0.097557 -0.099098  0.694064   \n",
       "4 -0.583552 -0.483623 -0.231148  2.033690 -0.097557 -0.099098 -0.344059   \n",
       "\n",
       "        nuc target  \n",
       "0 -0.527741    MIT  \n",
       "1 -0.527741    MIT  \n",
       "2 -0.527741    MIT  \n",
       "3 -0.527741    NUC  \n",
       "4 -0.527741    MIT  "
      ]
     },
     "execution_count": 163,
     "metadata": {},
     "output_type": "execute_result"
    }
   ],
   "source": [
    "data.head()"
   ]
  },
  {
   "cell_type": "code",
   "execution_count": 164,
   "metadata": {},
   "outputs": [
    {
     "data": {
      "text/plain": [
       "CYT    463\n",
       "NUC    429\n",
       "MIT    244\n",
       "ME3    163\n",
       "ME2     51\n",
       "ME1     44\n",
       "EXC     35\n",
       "VAC     30\n",
       "POX     20\n",
       "ERL      5\n",
       "Name: target, dtype: int64"
      ]
     },
     "execution_count": 164,
     "metadata": {},
     "output_type": "execute_result"
    }
   ],
   "source": [
    "data['target'].value_counts()"
   ]
  },
  {
   "cell_type": "markdown",
   "metadata": {},
   "source": [
    "## segmentation"
   ]
  },
  {
   "cell_type": "code",
   "execution_count": 209,
   "metadata": {},
   "outputs": [],
   "source": [
    "data_name = 'segmentation'\n",
    "data = pd.read_csv('data/original/segmentation.data',header = 2)"
   ]
  },
  {
   "cell_type": "code",
   "execution_count": 210,
   "metadata": {},
   "outputs": [],
   "source": [
    "cols = [\"REGION-CENTROID-COL\", \"REGION-CENTROID-ROW\", \"REGION-PIXEL-COUNT\",\n",
    "       \"SHORT-LINE-DENSITY-5\", \"SHORT-LINE-DENSITY-2\", \"VEDGE-MEAN\",\n",
    "       \"VEDGE-SD\", \"HEDGE-MEAN\", \"HEDGE-SD\", \"INTENSITY-MEAN\", \"RAWRED-MEAN\",\n",
    "       \"RAWBLUE-MEAN\", \"RAWGREEN-MEAN\", \"EXRED-MEAN\", \"EXBLUE-MEAN\",\n",
    "       \"EXGREEN-MEAN\", \"VALUE-MEAN\", \"SATURATION-MEAN\", \"HUE-MEAN\"]"
   ]
  },
  {
   "cell_type": "code",
   "execution_count": 211,
   "metadata": {},
   "outputs": [],
   "source": [
    "cols.remove('REGION-PIXEL-COUNT')"
   ]
  },
  {
   "cell_type": "code",
   "execution_count": 212,
   "metadata": {},
   "outputs": [],
   "source": [
    "data = data[cols]\n",
    "data['target'] = data.index"
   ]
  },
  {
   "cell_type": "code",
   "execution_count": 213,
   "metadata": {},
   "outputs": [],
   "source": [
    "data.index = range(len(data))"
   ]
  },
  {
   "cell_type": "code",
   "execution_count": null,
   "metadata": {},
   "outputs": [],
   "source": []
  },
  {
   "cell_type": "code",
   "execution_count": null,
   "metadata": {},
   "outputs": [],
   "source": []
  },
  {
   "cell_type": "code",
   "execution_count": 214,
   "metadata": {},
   "outputs": [],
   "source": [
    "cols = list(data.columns)\n",
    "cols.remove('target')\n",
    "data[cols] = (data[cols] - data[cols].mean())/data[cols].std()"
   ]
  },
  {
   "cell_type": "code",
   "execution_count": null,
   "metadata": {},
   "outputs": [],
   "source": []
  },
  {
   "cell_type": "code",
   "execution_count": null,
   "metadata": {},
   "outputs": [],
   "source": []
  },
  {
   "cell_type": "code",
   "execution_count": 215,
   "metadata": {},
   "outputs": [],
   "source": [
    "data.to_csv('data/processed/' + data_name + '.csv',index = False)\n"
   ]
  },
  {
   "cell_type": "code",
   "execution_count": 216,
   "metadata": {},
   "outputs": [
    {
     "data": {
      "text/plain": [
       "(210, 19)"
      ]
     },
     "execution_count": 216,
     "metadata": {},
     "output_type": "execute_result"
    }
   ],
   "source": [
    "data.shape"
   ]
  },
  {
   "cell_type": "code",
   "execution_count": 217,
   "metadata": {},
   "outputs": [
    {
     "data": {
      "text/html": [
       "<div>\n",
       "<style scoped>\n",
       "    .dataframe tbody tr th:only-of-type {\n",
       "        vertical-align: middle;\n",
       "    }\n",
       "\n",
       "    .dataframe tbody tr th {\n",
       "        vertical-align: top;\n",
       "    }\n",
       "\n",
       "    .dataframe thead th {\n",
       "        text-align: right;\n",
       "    }\n",
       "</style>\n",
       "<table border=\"1\" class=\"dataframe\">\n",
       "  <thead>\n",
       "    <tr style=\"text-align: right;\">\n",
       "      <th></th>\n",
       "      <th>REGION-CENTROID-COL</th>\n",
       "      <th>REGION-CENTROID-ROW</th>\n",
       "      <th>SHORT-LINE-DENSITY-5</th>\n",
       "      <th>SHORT-LINE-DENSITY-2</th>\n",
       "      <th>VEDGE-MEAN</th>\n",
       "      <th>VEDGE-SD</th>\n",
       "      <th>HEDGE-MEAN</th>\n",
       "      <th>HEDGE-SD</th>\n",
       "      <th>INTENSITY-MEAN</th>\n",
       "      <th>RAWRED-MEAN</th>\n",
       "      <th>RAWBLUE-MEAN</th>\n",
       "      <th>RAWGREEN-MEAN</th>\n",
       "      <th>EXRED-MEAN</th>\n",
       "      <th>EXBLUE-MEAN</th>\n",
       "      <th>EXGREEN-MEAN</th>\n",
       "      <th>VALUE-MEAN</th>\n",
       "      <th>SATURATION-MEAN</th>\n",
       "      <th>HUE-MEAN</th>\n",
       "      <th>target</th>\n",
       "    </tr>\n",
       "  </thead>\n",
       "  <tbody>\n",
       "    <tr>\n",
       "      <th>0</th>\n",
       "      <td>0.207173</td>\n",
       "      <td>0.038577</td>\n",
       "      <td>-0.286499</td>\n",
       "      <td>-0.211099</td>\n",
       "      <td>-0.521610</td>\n",
       "      <td>-0.130048</td>\n",
       "      <td>-0.403805</td>\n",
       "      <td>-0.116308</td>\n",
       "      <td>-0.799071</td>\n",
       "      <td>-0.721271</td>\n",
       "      <td>-0.829698</td>\n",
       "      <td>-0.829496</td>\n",
       "      <td>1.368065</td>\n",
       "      <td>-0.869631</td>\n",
       "      <td>0.045583</td>\n",
       "      <td>-0.858342</td>\n",
       "      <td>0.538437</td>\n",
       "      <td>0.140168</td>\n",
       "      <td>BRICKFACE</td>\n",
       "    </tr>\n",
       "    <tr>\n",
       "      <th>1</th>\n",
       "      <td>0.854911</td>\n",
       "      <td>0.176177</td>\n",
       "      <td>-0.286499</td>\n",
       "      <td>-0.211099</td>\n",
       "      <td>-0.504019</td>\n",
       "      <td>-0.125365</td>\n",
       "      <td>-0.438540</td>\n",
       "      <td>-0.118704</td>\n",
       "      <td>-0.786623</td>\n",
       "      <td>-0.693135</td>\n",
       "      <td>-0.827161</td>\n",
       "      <td>-0.820501</td>\n",
       "      <td>1.502634</td>\n",
       "      <td>-0.928853</td>\n",
       "      <td>0.005193</td>\n",
       "      <td>-0.842923</td>\n",
       "      <td>0.507405</td>\n",
       "      <td>0.266499</td>\n",
       "      <td>BRICKFACE</td>\n",
       "    </tr>\n",
       "    <tr>\n",
       "      <th>2</th>\n",
       "      <td>-0.265136</td>\n",
       "      <td>0.279376</td>\n",
       "      <td>-0.286499</td>\n",
       "      <td>-0.211099</td>\n",
       "      <td>-0.521610</td>\n",
       "      <td>-0.129026</td>\n",
       "      <td>-0.369071</td>\n",
       "      <td>-0.114141</td>\n",
       "      <td>-0.800987</td>\n",
       "      <td>-0.715019</td>\n",
       "      <td>-0.839844</td>\n",
       "      <td>-0.829496</td>\n",
       "      <td>1.444961</td>\n",
       "      <td>-0.928853</td>\n",
       "      <td>0.065778</td>\n",
       "      <td>-0.863482</td>\n",
       "      <td>0.481222</td>\n",
       "      <td>0.240125</td>\n",
       "      <td>BRICKFACE</td>\n",
       "    </tr>\n",
       "    <tr>\n",
       "      <th>3</th>\n",
       "      <td>-1.223248</td>\n",
       "      <td>0.244977</td>\n",
       "      <td>-0.286499</td>\n",
       "      <td>-0.211099</td>\n",
       "      <td>-0.451247</td>\n",
       "      <td>-0.127664</td>\n",
       "      <td>-0.311179</td>\n",
       "      <td>-0.114635</td>\n",
       "      <td>-0.807690</td>\n",
       "      <td>-0.708766</td>\n",
       "      <td>-0.857599</td>\n",
       "      <td>-0.835492</td>\n",
       "      <td>1.569918</td>\n",
       "      <td>-1.011763</td>\n",
       "      <td>0.075876</td>\n",
       "      <td>-0.858342</td>\n",
       "      <td>0.661596</td>\n",
       "      <td>0.382278</td>\n",
       "      <td>BRICKFACE</td>\n",
       "    </tr>\n",
       "    <tr>\n",
       "      <th>4</th>\n",
       "      <td>-1.155776</td>\n",
       "      <td>-0.202222</td>\n",
       "      <td>-0.286499</td>\n",
       "      <td>-0.211099</td>\n",
       "      <td>-0.380883</td>\n",
       "      <td>-0.122895</td>\n",
       "      <td>-0.357492</td>\n",
       "      <td>-0.115091</td>\n",
       "      <td>-0.802902</td>\n",
       "      <td>-0.730650</td>\n",
       "      <td>-0.829698</td>\n",
       "      <td>-0.832494</td>\n",
       "      <td>1.320005</td>\n",
       "      <td>-0.845942</td>\n",
       "      <td>0.055681</td>\n",
       "      <td>-0.855772</td>\n",
       "      <td>0.614466</td>\n",
       "      <td>0.105569</td>\n",
       "      <td>BRICKFACE</td>\n",
       "    </tr>\n",
       "  </tbody>\n",
       "</table>\n",
       "</div>"
      ],
      "text/plain": [
       "   REGION-CENTROID-COL  REGION-CENTROID-ROW  SHORT-LINE-DENSITY-5  \\\n",
       "0             0.207173             0.038577             -0.286499   \n",
       "1             0.854911             0.176177             -0.286499   \n",
       "2            -0.265136             0.279376             -0.286499   \n",
       "3            -1.223248             0.244977             -0.286499   \n",
       "4            -1.155776            -0.202222             -0.286499   \n",
       "\n",
       "   SHORT-LINE-DENSITY-2  VEDGE-MEAN  VEDGE-SD  HEDGE-MEAN  HEDGE-SD  \\\n",
       "0             -0.211099   -0.521610 -0.130048   -0.403805 -0.116308   \n",
       "1             -0.211099   -0.504019 -0.125365   -0.438540 -0.118704   \n",
       "2             -0.211099   -0.521610 -0.129026   -0.369071 -0.114141   \n",
       "3             -0.211099   -0.451247 -0.127664   -0.311179 -0.114635   \n",
       "4             -0.211099   -0.380883 -0.122895   -0.357492 -0.115091   \n",
       "\n",
       "   INTENSITY-MEAN  RAWRED-MEAN  RAWBLUE-MEAN  RAWGREEN-MEAN  EXRED-MEAN  \\\n",
       "0       -0.799071    -0.721271     -0.829698      -0.829496    1.368065   \n",
       "1       -0.786623    -0.693135     -0.827161      -0.820501    1.502634   \n",
       "2       -0.800987    -0.715019     -0.839844      -0.829496    1.444961   \n",
       "3       -0.807690    -0.708766     -0.857599      -0.835492    1.569918   \n",
       "4       -0.802902    -0.730650     -0.829698      -0.832494    1.320005   \n",
       "\n",
       "   EXBLUE-MEAN  EXGREEN-MEAN  VALUE-MEAN  SATURATION-MEAN  HUE-MEAN     target  \n",
       "0    -0.869631      0.045583   -0.858342         0.538437  0.140168  BRICKFACE  \n",
       "1    -0.928853      0.005193   -0.842923         0.507405  0.266499  BRICKFACE  \n",
       "2    -0.928853      0.065778   -0.863482         0.481222  0.240125  BRICKFACE  \n",
       "3    -1.011763      0.075876   -0.858342         0.661596  0.382278  BRICKFACE  \n",
       "4    -0.845942      0.055681   -0.855772         0.614466  0.105569  BRICKFACE  "
      ]
     },
     "execution_count": 217,
     "metadata": {},
     "output_type": "execute_result"
    }
   ],
   "source": [
    "data.head()"
   ]
  },
  {
   "cell_type": "code",
   "execution_count": 218,
   "metadata": {},
   "outputs": [
    {
     "data": {
      "text/plain": [
       "BRICKFACE    30\n",
       "SKY          30\n",
       "GRASS        30\n",
       "FOLIAGE      30\n",
       "WINDOW       30\n",
       "CEMENT       30\n",
       "PATH         30\n",
       "Name: target, dtype: int64"
      ]
     },
     "execution_count": 218,
     "metadata": {},
     "output_type": "execute_result"
    }
   ],
   "source": [
    "data['target'].value_counts()"
   ]
  },
  {
   "cell_type": "markdown",
   "metadata": {},
   "source": [
    "## waveform"
   ]
  },
  {
   "cell_type": "code",
   "execution_count": 219,
   "metadata": {},
   "outputs": [],
   "source": [
    "data_name = 'waveform'\n",
    "data = pd.read_csv('data/original/waveform.data',header = None)"
   ]
  },
  {
   "cell_type": "code",
   "execution_count": 220,
   "metadata": {},
   "outputs": [],
   "source": [
    "cols = ['col' + str(x) for x in range(21)]\n",
    "data.columns = cols + ['target']"
   ]
  },
  {
   "cell_type": "code",
   "execution_count": 221,
   "metadata": {},
   "outputs": [],
   "source": [
    "cols = [\"col0\", \"col1\", \"col2\", \"col3\", \"col4\", \"col5\", \"col6\", \"col7\", \"col8\",\n",
    "       \"col9\", \"col10\", \"col11\", \"col12\", \"col13\", \"col14\", \"col15\", \"col16\",\n",
    "       \"col17\", \"col18\", \"col19\", \"col20\"]"
   ]
  },
  {
   "cell_type": "code",
   "execution_count": 222,
   "metadata": {},
   "outputs": [],
   "source": [
    "# data = data.sample(5000)\n",
    "# data.index = range(len(data))"
   ]
  },
  {
   "cell_type": "code",
   "execution_count": 223,
   "metadata": {},
   "outputs": [],
   "source": [
    "cols = list(data.columns)\n",
    "cols.remove('target')\n",
    "data[cols] = (data[cols] - data[cols].mean())/data[cols].std()"
   ]
  },
  {
   "cell_type": "code",
   "execution_count": 224,
   "metadata": {},
   "outputs": [],
   "source": [
    "data.to_csv('data/processed/' + data_name + '.csv',index = False)\n"
   ]
  },
  {
   "cell_type": "code",
   "execution_count": 225,
   "metadata": {},
   "outputs": [
    {
     "data": {
      "text/plain": [
       "(5000, 22)"
      ]
     },
     "execution_count": 225,
     "metadata": {},
     "output_type": "execute_result"
    }
   ],
   "source": [
    "data.shape"
   ]
  },
  {
   "cell_type": "code",
   "execution_count": 226,
   "metadata": {},
   "outputs": [
    {
     "data": {
      "text/html": [
       "<div>\n",
       "<style scoped>\n",
       "    .dataframe tbody tr th:only-of-type {\n",
       "        vertical-align: middle;\n",
       "    }\n",
       "\n",
       "    .dataframe tbody tr th {\n",
       "        vertical-align: top;\n",
       "    }\n",
       "\n",
       "    .dataframe thead th {\n",
       "        text-align: right;\n",
       "    }\n",
       "</style>\n",
       "<table border=\"1\" class=\"dataframe\">\n",
       "  <thead>\n",
       "    <tr style=\"text-align: right;\">\n",
       "      <th></th>\n",
       "      <th>col0</th>\n",
       "      <th>col1</th>\n",
       "      <th>col2</th>\n",
       "      <th>col3</th>\n",
       "      <th>col4</th>\n",
       "      <th>col5</th>\n",
       "      <th>col6</th>\n",
       "      <th>col7</th>\n",
       "      <th>col8</th>\n",
       "      <th>col9</th>\n",
       "      <th>...</th>\n",
       "      <th>col12</th>\n",
       "      <th>col13</th>\n",
       "      <th>col14</th>\n",
       "      <th>col15</th>\n",
       "      <th>col16</th>\n",
       "      <th>col17</th>\n",
       "      <th>col18</th>\n",
       "      <th>col19</th>\n",
       "      <th>col20</th>\n",
       "      <th>target</th>\n",
       "    </tr>\n",
       "  </thead>\n",
       "  <tbody>\n",
       "    <tr>\n",
       "      <th>0</th>\n",
       "      <td>-1.222757</td>\n",
       "      <td>-1.802054</td>\n",
       "      <td>-2.039141</td>\n",
       "      <td>-0.898513</td>\n",
       "      <td>-0.423578</td>\n",
       "      <td>0.122751</td>\n",
       "      <td>-0.898814</td>\n",
       "      <td>-1.402711</td>\n",
       "      <td>-1.726764</td>\n",
       "      <td>-1.370330</td>\n",
       "      <td>...</td>\n",
       "      <td>0.127812</td>\n",
       "      <td>2.898318</td>\n",
       "      <td>0.962137</td>\n",
       "      <td>0.634841</td>\n",
       "      <td>2.266518</td>\n",
       "      <td>1.641671</td>\n",
       "      <td>0.449767</td>\n",
       "      <td>-0.108477</td>\n",
       "      <td>-0.540208</td>\n",
       "      <td>2</td>\n",
       "    </tr>\n",
       "    <tr>\n",
       "      <th>1</th>\n",
       "      <td>-0.688173</td>\n",
       "      <td>1.984758</td>\n",
       "      <td>-0.052559</td>\n",
       "      <td>0.769050</td>\n",
       "      <td>0.589357</td>\n",
       "      <td>0.690499</td>\n",
       "      <td>1.417914</td>\n",
       "      <td>1.082875</td>\n",
       "      <td>0.179113</td>\n",
       "      <td>-0.501903</td>\n",
       "      <td>...</td>\n",
       "      <td>-0.871227</td>\n",
       "      <td>-0.431013</td>\n",
       "      <td>-0.380266</td>\n",
       "      <td>-1.844885</td>\n",
       "      <td>-0.302424</td>\n",
       "      <td>0.289760</td>\n",
       "      <td>0.934180</td>\n",
       "      <td>0.224444</td>\n",
       "      <td>2.448567</td>\n",
       "      <td>1</td>\n",
       "    </tr>\n",
       "    <tr>\n",
       "      <th>2</th>\n",
       "      <td>-0.123889</td>\n",
       "      <td>-1.213627</td>\n",
       "      <td>0.519847</td>\n",
       "      <td>1.129414</td>\n",
       "      <td>0.660858</td>\n",
       "      <td>0.855862</td>\n",
       "      <td>1.130183</td>\n",
       "      <td>0.338344</td>\n",
       "      <td>-0.464196</td>\n",
       "      <td>-0.599846</td>\n",
       "      <td>...</td>\n",
       "      <td>-0.108325</td>\n",
       "      <td>-1.436630</td>\n",
       "      <td>-0.613081</td>\n",
       "      <td>0.430498</td>\n",
       "      <td>-0.416200</td>\n",
       "      <td>-0.269407</td>\n",
       "      <td>-0.560818</td>\n",
       "      <td>-1.061001</td>\n",
       "      <td>-0.098912</td>\n",
       "      <td>0</td>\n",
       "    </tr>\n",
       "    <tr>\n",
       "      <th>3</th>\n",
       "      <td>0.846283</td>\n",
       "      <td>-0.046264</td>\n",
       "      <td>1.277442</td>\n",
       "      <td>-0.714798</td>\n",
       "      <td>-0.107781</td>\n",
       "      <td>0.282603</td>\n",
       "      <td>-0.144761</td>\n",
       "      <td>1.598319</td>\n",
       "      <td>1.670145</td>\n",
       "      <td>1.208831</td>\n",
       "      <td>...</td>\n",
       "      <td>-0.059887</td>\n",
       "      <td>-0.709404</td>\n",
       "      <td>-0.697291</td>\n",
       "      <td>-0.326122</td>\n",
       "      <td>-0.158707</td>\n",
       "      <td>-1.720410</td>\n",
       "      <td>1.819486</td>\n",
       "      <td>-1.421666</td>\n",
       "      <td>1.144739</td>\n",
       "      <td>1</td>\n",
       "    </tr>\n",
       "    <tr>\n",
       "      <th>4</th>\n",
       "      <td>1.143274</td>\n",
       "      <td>0.029662</td>\n",
       "      <td>-0.229331</td>\n",
       "      <td>-1.117557</td>\n",
       "      <td>0.803860</td>\n",
       "      <td>-0.549726</td>\n",
       "      <td>0.013987</td>\n",
       "      <td>0.802244</td>\n",
       "      <td>1.604011</td>\n",
       "      <td>0.353464</td>\n",
       "      <td>...</td>\n",
       "      <td>0.981535</td>\n",
       "      <td>-0.459420</td>\n",
       "      <td>-0.454568</td>\n",
       "      <td>-0.988855</td>\n",
       "      <td>-0.907233</td>\n",
       "      <td>-0.616232</td>\n",
       "      <td>-0.727857</td>\n",
       "      <td>-1.070249</td>\n",
       "      <td>-0.660561</td>\n",
       "      <td>1</td>\n",
       "    </tr>\n",
       "  </tbody>\n",
       "</table>\n",
       "<p>5 rows × 22 columns</p>\n",
       "</div>"
      ],
      "text/plain": [
       "       col0      col1      col2      col3      col4      col5      col6  \\\n",
       "0 -1.222757 -1.802054 -2.039141 -0.898513 -0.423578  0.122751 -0.898814   \n",
       "1 -0.688173  1.984758 -0.052559  0.769050  0.589357  0.690499  1.417914   \n",
       "2 -0.123889 -1.213627  0.519847  1.129414  0.660858  0.855862  1.130183   \n",
       "3  0.846283 -0.046264  1.277442 -0.714798 -0.107781  0.282603 -0.144761   \n",
       "4  1.143274  0.029662 -0.229331 -1.117557  0.803860 -0.549726  0.013987   \n",
       "\n",
       "       col7      col8      col9  ...     col12     col13     col14     col15  \\\n",
       "0 -1.402711 -1.726764 -1.370330  ...  0.127812  2.898318  0.962137  0.634841   \n",
       "1  1.082875  0.179113 -0.501903  ... -0.871227 -0.431013 -0.380266 -1.844885   \n",
       "2  0.338344 -0.464196 -0.599846  ... -0.108325 -1.436630 -0.613081  0.430498   \n",
       "3  1.598319  1.670145  1.208831  ... -0.059887 -0.709404 -0.697291 -0.326122   \n",
       "4  0.802244  1.604011  0.353464  ...  0.981535 -0.459420 -0.454568 -0.988855   \n",
       "\n",
       "      col16     col17     col18     col19     col20  target  \n",
       "0  2.266518  1.641671  0.449767 -0.108477 -0.540208       2  \n",
       "1 -0.302424  0.289760  0.934180  0.224444  2.448567       1  \n",
       "2 -0.416200 -0.269407 -0.560818 -1.061001 -0.098912       0  \n",
       "3 -0.158707 -1.720410  1.819486 -1.421666  1.144739       1  \n",
       "4 -0.907233 -0.616232 -0.727857 -1.070249 -0.660561       1  \n",
       "\n",
       "[5 rows x 22 columns]"
      ]
     },
     "execution_count": 226,
     "metadata": {},
     "output_type": "execute_result"
    }
   ],
   "source": [
    "data.head()"
   ]
  },
  {
   "cell_type": "code",
   "execution_count": 227,
   "metadata": {},
   "outputs": [
    {
     "data": {
      "text/plain": [
       "2    1696\n",
       "0    1657\n",
       "1    1647\n",
       "Name: target, dtype: int64"
      ]
     },
     "execution_count": 227,
     "metadata": {},
     "output_type": "execute_result"
    }
   ],
   "source": [
    "data['target'].value_counts()"
   ]
  },
  {
   "cell_type": "markdown",
   "metadata": {},
   "source": [
    "## australian"
   ]
  },
  {
   "cell_type": "code",
   "execution_count": 228,
   "metadata": {},
   "outputs": [],
   "source": [
    "data_name = 'australian'\n",
    "data = pd.read_csv('data/original/australian.dat',sep = '\\s+' ,header = None)"
   ]
  },
  {
   "cell_type": "code",
   "execution_count": 229,
   "metadata": {},
   "outputs": [],
   "source": [
    "cols = ['col' + str(x) for x in range(14)]\n",
    "data.columns = cols + ['target']"
   ]
  },
  {
   "cell_type": "code",
   "execution_count": 230,
   "metadata": {},
   "outputs": [],
   "source": [
    "cols = [\"col0\", \"col1\", \"col2\", \"col3\", \"col4\", \"col5\", \"col6\", \"col7\", \"col8\",\n",
    "       \"col9\", \"col10\", \"col11\", \"col12\", \"col13\"]"
   ]
  },
  {
   "cell_type": "code",
   "execution_count": 231,
   "metadata": {},
   "outputs": [],
   "source": [
    "cols = list(data.columns)\n",
    "cols.remove('target')\n",
    "data[cols] = (data[cols] - data[cols].mean())/data[cols].std()"
   ]
  },
  {
   "cell_type": "code",
   "execution_count": 232,
   "metadata": {},
   "outputs": [],
   "source": [
    "data.to_csv('data/processed/' + data_name + '.csv',index = False)\n"
   ]
  },
  {
   "cell_type": "code",
   "execution_count": 233,
   "metadata": {
    "scrolled": true
   },
   "outputs": [
    {
     "data": {
      "text/plain": [
       "(690, 15)"
      ]
     },
     "execution_count": 233,
     "metadata": {},
     "output_type": "execute_result"
    }
   ],
   "source": [
    "data.shape"
   ]
  },
  {
   "cell_type": "code",
   "execution_count": 234,
   "metadata": {},
   "outputs": [
    {
     "data": {
      "text/html": [
       "<div>\n",
       "<style scoped>\n",
       "    .dataframe tbody tr th:only-of-type {\n",
       "        vertical-align: middle;\n",
       "    }\n",
       "\n",
       "    .dataframe tbody tr th {\n",
       "        vertical-align: top;\n",
       "    }\n",
       "\n",
       "    .dataframe thead th {\n",
       "        text-align: right;\n",
       "    }\n",
       "</style>\n",
       "<table border=\"1\" class=\"dataframe\">\n",
       "  <thead>\n",
       "    <tr style=\"text-align: right;\">\n",
       "      <th></th>\n",
       "      <th>col0</th>\n",
       "      <th>col1</th>\n",
       "      <th>col2</th>\n",
       "      <th>col3</th>\n",
       "      <th>col4</th>\n",
       "      <th>col5</th>\n",
       "      <th>col6</th>\n",
       "      <th>col7</th>\n",
       "      <th>col8</th>\n",
       "      <th>col9</th>\n",
       "      <th>col10</th>\n",
       "      <th>col11</th>\n",
       "      <th>col12</th>\n",
       "      <th>col13</th>\n",
       "      <th>target</th>\n",
       "    </tr>\n",
       "  </thead>\n",
       "  <tbody>\n",
       "    <tr>\n",
       "      <th>0</th>\n",
       "      <td>0.688238</td>\n",
       "      <td>-0.800471</td>\n",
       "      <td>1.346134</td>\n",
       "      <td>0.542556</td>\n",
       "      <td>-0.915618</td>\n",
       "      <td>-0.347713</td>\n",
       "      <td>-0.190767</td>\n",
       "      <td>-1.046745</td>\n",
       "      <td>-0.863570</td>\n",
       "      <td>-0.493529</td>\n",
       "      <td>1.087120</td>\n",
       "      <td>0.237655</td>\n",
       "      <td>-0.488004</td>\n",
       "      <td>0.037353</td>\n",
       "      <td>0</td>\n",
       "    </tr>\n",
       "    <tr>\n",
       "      <th>1</th>\n",
       "      <td>-1.450880</td>\n",
       "      <td>-0.750696</td>\n",
       "      <td>0.450221</td>\n",
       "      <td>0.542556</td>\n",
       "      <td>0.170375</td>\n",
       "      <td>-0.347713</td>\n",
       "      <td>-0.615090</td>\n",
       "      <td>-1.046745</td>\n",
       "      <td>-0.863570</td>\n",
       "      <td>-0.493529</td>\n",
       "      <td>-0.918529</td>\n",
       "      <td>0.237655</td>\n",
       "      <td>-0.139490</td>\n",
       "      <td>-0.195272</td>\n",
       "      <td>0</td>\n",
       "    </tr>\n",
       "    <tr>\n",
       "      <th>2</th>\n",
       "      <td>-1.450880</td>\n",
       "      <td>-0.167735</td>\n",
       "      <td>-0.604384</td>\n",
       "      <td>-1.782685</td>\n",
       "      <td>-0.915618</td>\n",
       "      <td>-0.347713</td>\n",
       "      <td>-0.290872</td>\n",
       "      <td>-1.046745</td>\n",
       "      <td>-0.863570</td>\n",
       "      <td>-0.493529</td>\n",
       "      <td>1.087120</td>\n",
       "      <td>0.237655</td>\n",
       "      <td>0.557539</td>\n",
       "      <td>-0.195272</td>\n",
       "      <td>0</td>\n",
       "    </tr>\n",
       "    <tr>\n",
       "      <th>3</th>\n",
       "      <td>-1.450880</td>\n",
       "      <td>-0.835061</td>\n",
       "      <td>1.354169</td>\n",
       "      <td>-1.782685</td>\n",
       "      <td>-0.644120</td>\n",
       "      <td>-0.849641</td>\n",
       "      <td>-0.664395</td>\n",
       "      <td>0.953958</td>\n",
       "      <td>1.156306</td>\n",
       "      <td>1.768477</td>\n",
       "      <td>1.087120</td>\n",
       "      <td>0.237655</td>\n",
       "      <td>-1.068862</td>\n",
       "      <td>-0.195272</td>\n",
       "      <td>1</td>\n",
       "    </tr>\n",
       "    <tr>\n",
       "      <th>4</th>\n",
       "      <td>0.688238</td>\n",
       "      <td>-0.961608</td>\n",
       "      <td>0.685248</td>\n",
       "      <td>0.542556</td>\n",
       "      <td>-0.372622</td>\n",
       "      <td>-0.347713</td>\n",
       "      <td>-0.078711</td>\n",
       "      <td>0.953958</td>\n",
       "      <td>1.156306</td>\n",
       "      <td>2.385388</td>\n",
       "      <td>-0.918529</td>\n",
       "      <td>0.237655</td>\n",
       "      <td>-0.720347</td>\n",
       "      <td>-0.164946</td>\n",
       "      <td>1</td>\n",
       "    </tr>\n",
       "  </tbody>\n",
       "</table>\n",
       "</div>"
      ],
      "text/plain": [
       "       col0      col1      col2      col3      col4      col5      col6  \\\n",
       "0  0.688238 -0.800471  1.346134  0.542556 -0.915618 -0.347713 -0.190767   \n",
       "1 -1.450880 -0.750696  0.450221  0.542556  0.170375 -0.347713 -0.615090   \n",
       "2 -1.450880 -0.167735 -0.604384 -1.782685 -0.915618 -0.347713 -0.290872   \n",
       "3 -1.450880 -0.835061  1.354169 -1.782685 -0.644120 -0.849641 -0.664395   \n",
       "4  0.688238 -0.961608  0.685248  0.542556 -0.372622 -0.347713 -0.078711   \n",
       "\n",
       "       col7      col8      col9     col10     col11     col12     col13  \\\n",
       "0 -1.046745 -0.863570 -0.493529  1.087120  0.237655 -0.488004  0.037353   \n",
       "1 -1.046745 -0.863570 -0.493529 -0.918529  0.237655 -0.139490 -0.195272   \n",
       "2 -1.046745 -0.863570 -0.493529  1.087120  0.237655  0.557539 -0.195272   \n",
       "3  0.953958  1.156306  1.768477  1.087120  0.237655 -1.068862 -0.195272   \n",
       "4  0.953958  1.156306  2.385388 -0.918529  0.237655 -0.720347 -0.164946   \n",
       "\n",
       "   target  \n",
       "0       0  \n",
       "1       0  \n",
       "2       0  \n",
       "3       1  \n",
       "4       1  "
      ]
     },
     "execution_count": 234,
     "metadata": {},
     "output_type": "execute_result"
    }
   ],
   "source": [
    "data.head()"
   ]
  },
  {
   "cell_type": "markdown",
   "metadata": {},
   "source": [
    "## Automobile"
   ]
  },
  {
   "cell_type": "code",
   "execution_count": 235,
   "metadata": {},
   "outputs": [],
   "source": [
    "data_name = 'automobile'\n",
    "data = pd.read_csv('data/original/automobile.data' ,header = None)"
   ]
  },
  {
   "cell_type": "code",
   "execution_count": 236,
   "metadata": {},
   "outputs": [],
   "source": [
    "cols = ['target','losses','make','fuel-type','aspiration','num-of-door'\n",
    "       ,'body-style','drive-wheels','engine-location','wheel-base','length'\n",
    "       ,'width','height','curb-weight','engine-type','num-of-cylinders'\n",
    "       ,'engine-size','fuel-system','bore','stroke','compression','horsepower'\n",
    "       ,'peak-rpm','city-mpg','highway-mpg','price']"
   ]
  },
  {
   "cell_type": "code",
   "execution_count": 237,
   "metadata": {},
   "outputs": [],
   "source": [
    "data.columns = cols"
   ]
  },
  {
   "cell_type": "code",
   "execution_count": null,
   "metadata": {},
   "outputs": [],
   "source": []
  },
  {
   "cell_type": "markdown",
   "metadata": {},
   "source": [
    "## Wine"
   ]
  },
  {
   "cell_type": "code",
   "execution_count": 238,
   "metadata": {},
   "outputs": [],
   "source": [
    "data_name = 'wine'\n",
    "data = pd.read_csv('data/original/wine-red.csv' ,sep = ';')"
   ]
  },
  {
   "cell_type": "code",
   "execution_count": 239,
   "metadata": {},
   "outputs": [],
   "source": [
    "data = data.rename(columns = {'quality' : 'target'})"
   ]
  },
  {
   "cell_type": "code",
   "execution_count": 240,
   "metadata": {},
   "outputs": [],
   "source": [
    "data['target'] = (data['target'] - data['target'].mean())/data['target'].std()"
   ]
  },
  {
   "cell_type": "code",
   "execution_count": 241,
   "metadata": {},
   "outputs": [],
   "source": [
    "cols = list(data.columns)\n",
    "cols.remove('target')\n",
    "data[cols] = (data[cols] - data[cols].mean())/data[cols].std()"
   ]
  },
  {
   "cell_type": "code",
   "execution_count": 242,
   "metadata": {},
   "outputs": [],
   "source": [
    "data.to_csv('data/processed/' + data_name + '.csv',index = False)\n"
   ]
  },
  {
   "cell_type": "code",
   "execution_count": 243,
   "metadata": {},
   "outputs": [
    {
     "data": {
      "text/plain": [
       "(1599, 12)"
      ]
     },
     "execution_count": 243,
     "metadata": {},
     "output_type": "execute_result"
    }
   ],
   "source": [
    "data.shape"
   ]
  },
  {
   "cell_type": "markdown",
   "metadata": {},
   "source": [
    "## Crime"
   ]
  },
  {
   "cell_type": "code",
   "execution_count": 244,
   "metadata": {},
   "outputs": [],
   "source": [
    "data_name = 'crime'\n",
    "data = pd.read_csv('data/original/crime.data' ,sep = ',', header = None)"
   ]
  },
  {
   "cell_type": "code",
   "execution_count": 245,
   "metadata": {},
   "outputs": [],
   "source": [
    "cols = ['state',\n",
    "'county',\n",
    "'community',\n",
    "'communityname string',\n",
    "'fold',\n",
    "'population',\n",
    "'householdsize',\n",
    "'racepctblack',\n",
    "'racePctWhite',\n",
    "'racePctAsian',\n",
    "'racePctHisp',\n",
    "'agePct12t21',\n",
    "'agePct12t29',\n",
    "'agePct16t24',\n",
    "'agePct65up',\n",
    "'numbUrban',\n",
    "'pctUrban',\n",
    "'medIncome',\n",
    "'pctWWage',\n",
    "'pctWFarmSelf',\n",
    "'pctWInvInc',\n",
    "'pctWSocSec',\n",
    "'pctWPubAsst',\n",
    "'pctWRetire',\n",
    "'medFamInc',\n",
    "'perCapInc',\n",
    "'whitePerCap',\n",
    "'blackPerCap',\n",
    "'indianPerCap',\n",
    "'AsianPerCap',\n",
    "'OtherPerCap',\n",
    "'HispPerCap',\n",
    "'NumUnderPov',\n",
    "'PctPopUnderPov',\n",
    "'PctLess9thGrade',\n",
    "'PctNotHSGrad',\n",
    "'PctBSorMore',\n",
    "'PctUnemployed',\n",
    "'PctEmploy',\n",
    "'PctEmplManu',\n",
    "'PctEmplProfServ',\n",
    "'PctOccupManu',\n",
    "'PctOccupMgmtProf',\n",
    "'MalePctDivorce',\n",
    "'MalePctNevMarr',\n",
    "'FemalePctDiv',\n",
    "'TotalPctDiv',\n",
    "'PersPerFam',\n",
    "'PctFam2Par',\n",
    "'PctKids2Par',\n",
    "'PctYoungKids2Par',\n",
    "'PctTeen2Par',\n",
    "'PctWorkMomYoungKids',\n",
    "'PctWorkMom',\n",
    "'NumIlleg',\n",
    "'PctIlleg',\n",
    "'NumImmig',\n",
    "'PctImmigRecent',\n",
    "'PctImmigRec5',\n",
    "'PctImmigRec8',\n",
    "'PctImmigRec10',\n",
    "'PctRecentImmig',\n",
    "'PctRecImmig5',\n",
    "'PctRecImmig8',\n",
    "'PctRecImmig10',\n",
    "'PctSpeakEnglOnly',\n",
    "'PctNotSpeakEnglWell',\n",
    "'PctLargHouseFam',\n",
    "'PctLargHouseOccup',\n",
    "'PersPerOccupHous',\n",
    "'PersPerOwnOccHous',\n",
    "'PersPerRentOccHous',\n",
    "'PctPersOwnOccup',\n",
    "'PctPersDenseHous',\n",
    "'PctHousLess3BR',\n",
    "'MedNumBR',\n",
    "'HousVacant',\n",
    "'PctHousOccup',\n",
    "'PctHousOwnOcc',\n",
    "'PctVacantBoarded',\n",
    "'PctVacMore6Mos',\n",
    "'MedYrHousBuilt',\n",
    "'PctHousNoPhone',\n",
    "'PctWOFullPlumb',\n",
    "'OwnOccLowQuart',\n",
    "'OwnOccMedVal',\n",
    "'OwnOccHiQuart',\n",
    "'RentLowQ',\n",
    "'RentMedian',\n",
    "'RentHighQ',\n",
    "'MedRent',\n",
    "'MedRentPctHousInc',\n",
    "'MedOwnCostPctInc',\n",
    "'MedOwnCostPctIncNoMtg',\n",
    "'NumInShelters',\n",
    "'NumStreet',\n",
    "'PctForeignBorn',\n",
    "'PctBornSameState',\n",
    "'PctSameHouse85',\n",
    "'PctSameCity85',\n",
    "'PctSameState85',\n",
    "'LemasSwornFT',\n",
    "'LemasSwFTPerPop',\n",
    "'LemasSwFTFieldOps',\n",
    "'LemasSwFTFieldPerPop',\n",
    "'LemasTotalReq',\n",
    "'LemasTotReqPerPop',\n",
    "'PolicReqPerOffic',\n",
    "'PolicPerPop',\n",
    "'RacialMatchCommPol',\n",
    "'PctPolicWhite',\n",
    "'PctPolicBlack',\n",
    "'PctPolicHisp',\n",
    "'PctPolicAsian',\n",
    "'PctPolicMinor',\n",
    "'OfficAssgnDrugUnits',\n",
    "'NumKindsDrugsSeiz',\n",
    "'PolicAveOTWorked',\n",
    "'LandArea',\n",
    "'PopDens',\n",
    "'PctUsePubTrans',\n",
    "'PolicCars',\n",
    "'PolicOperBudg',\n",
    "'LemasPctPolicOnPatr',\n",
    "'LemasGangUnitDeploy',\n",
    "'LemasPctOfficDrugUn',\n",
    "'PolicBudgPerPop',\n",
    "'target']"
   ]
  },
  {
   "cell_type": "code",
   "execution_count": 246,
   "metadata": {},
   "outputs": [],
   "source": [
    "data.columns = cols"
   ]
  },
  {
   "cell_type": "code",
   "execution_count": 247,
   "metadata": {},
   "outputs": [],
   "source": [
    "data = data.loc[:,data.dtypes != 'object']\n",
    "data = data.drop(columns = 'fold')"
   ]
  },
  {
   "cell_type": "code",
   "execution_count": 248,
   "metadata": {},
   "outputs": [
    {
     "data": {
      "text/plain": [
       "(1994, 101)"
      ]
     },
     "execution_count": 248,
     "metadata": {},
     "output_type": "execute_result"
    }
   ],
   "source": [
    "data.shape"
   ]
  },
  {
   "cell_type": "code",
   "execution_count": 249,
   "metadata": {},
   "outputs": [],
   "source": [
    "data['target'] = (data['target'] - data['target'].mean())/data['target'].std()"
   ]
  },
  {
   "cell_type": "code",
   "execution_count": 250,
   "metadata": {},
   "outputs": [
    {
     "data": {
      "text/html": [
       "<div>\n",
       "<style scoped>\n",
       "    .dataframe tbody tr th:only-of-type {\n",
       "        vertical-align: middle;\n",
       "    }\n",
       "\n",
       "    .dataframe tbody tr th {\n",
       "        vertical-align: top;\n",
       "    }\n",
       "\n",
       "    .dataframe thead th {\n",
       "        text-align: right;\n",
       "    }\n",
       "</style>\n",
       "<table border=\"1\" class=\"dataframe\">\n",
       "  <thead>\n",
       "    <tr style=\"text-align: right;\">\n",
       "      <th></th>\n",
       "      <th>state</th>\n",
       "      <th>population</th>\n",
       "      <th>householdsize</th>\n",
       "      <th>racepctblack</th>\n",
       "      <th>racePctWhite</th>\n",
       "      <th>racePctAsian</th>\n",
       "      <th>racePctHisp</th>\n",
       "      <th>agePct12t21</th>\n",
       "      <th>agePct12t29</th>\n",
       "      <th>agePct16t24</th>\n",
       "      <th>...</th>\n",
       "      <th>PctForeignBorn</th>\n",
       "      <th>PctBornSameState</th>\n",
       "      <th>PctSameHouse85</th>\n",
       "      <th>PctSameCity85</th>\n",
       "      <th>PctSameState85</th>\n",
       "      <th>LandArea</th>\n",
       "      <th>PopDens</th>\n",
       "      <th>PctUsePubTrans</th>\n",
       "      <th>LemasPctOfficDrugUn</th>\n",
       "      <th>target</th>\n",
       "    </tr>\n",
       "  </thead>\n",
       "  <tbody>\n",
       "    <tr>\n",
       "      <th>0</th>\n",
       "      <td>8</td>\n",
       "      <td>0.19</td>\n",
       "      <td>0.33</td>\n",
       "      <td>0.02</td>\n",
       "      <td>0.90</td>\n",
       "      <td>0.12</td>\n",
       "      <td>0.17</td>\n",
       "      <td>0.34</td>\n",
       "      <td>0.47</td>\n",
       "      <td>0.29</td>\n",
       "      <td>...</td>\n",
       "      <td>0.12</td>\n",
       "      <td>0.42</td>\n",
       "      <td>0.50</td>\n",
       "      <td>0.51</td>\n",
       "      <td>0.64</td>\n",
       "      <td>0.12</td>\n",
       "      <td>0.26</td>\n",
       "      <td>0.20</td>\n",
       "      <td>0.32</td>\n",
       "      <td>-0.163010</td>\n",
       "    </tr>\n",
       "    <tr>\n",
       "      <th>1</th>\n",
       "      <td>53</td>\n",
       "      <td>0.00</td>\n",
       "      <td>0.16</td>\n",
       "      <td>0.12</td>\n",
       "      <td>0.74</td>\n",
       "      <td>0.45</td>\n",
       "      <td>0.07</td>\n",
       "      <td>0.26</td>\n",
       "      <td>0.59</td>\n",
       "      <td>0.35</td>\n",
       "      <td>...</td>\n",
       "      <td>0.21</td>\n",
       "      <td>0.50</td>\n",
       "      <td>0.34</td>\n",
       "      <td>0.60</td>\n",
       "      <td>0.52</td>\n",
       "      <td>0.02</td>\n",
       "      <td>0.12</td>\n",
       "      <td>0.45</td>\n",
       "      <td>0.00</td>\n",
       "      <td>1.854288</td>\n",
       "    </tr>\n",
       "    <tr>\n",
       "      <th>2</th>\n",
       "      <td>24</td>\n",
       "      <td>0.00</td>\n",
       "      <td>0.42</td>\n",
       "      <td>0.49</td>\n",
       "      <td>0.56</td>\n",
       "      <td>0.17</td>\n",
       "      <td>0.04</td>\n",
       "      <td>0.39</td>\n",
       "      <td>0.47</td>\n",
       "      <td>0.28</td>\n",
       "      <td>...</td>\n",
       "      <td>0.14</td>\n",
       "      <td>0.49</td>\n",
       "      <td>0.54</td>\n",
       "      <td>0.67</td>\n",
       "      <td>0.56</td>\n",
       "      <td>0.01</td>\n",
       "      <td>0.21</td>\n",
       "      <td>0.02</td>\n",
       "      <td>0.00</td>\n",
       "      <td>0.824178</td>\n",
       "    </tr>\n",
       "    <tr>\n",
       "      <th>3</th>\n",
       "      <td>34</td>\n",
       "      <td>0.04</td>\n",
       "      <td>0.77</td>\n",
       "      <td>1.00</td>\n",
       "      <td>0.08</td>\n",
       "      <td>0.12</td>\n",
       "      <td>0.10</td>\n",
       "      <td>0.51</td>\n",
       "      <td>0.50</td>\n",
       "      <td>0.34</td>\n",
       "      <td>...</td>\n",
       "      <td>0.19</td>\n",
       "      <td>0.30</td>\n",
       "      <td>0.73</td>\n",
       "      <td>0.64</td>\n",
       "      <td>0.65</td>\n",
       "      <td>0.02</td>\n",
       "      <td>0.39</td>\n",
       "      <td>0.28</td>\n",
       "      <td>0.00</td>\n",
       "      <td>-0.506380</td>\n",
       "    </tr>\n",
       "    <tr>\n",
       "      <th>4</th>\n",
       "      <td>42</td>\n",
       "      <td>0.01</td>\n",
       "      <td>0.55</td>\n",
       "      <td>0.02</td>\n",
       "      <td>0.95</td>\n",
       "      <td>0.09</td>\n",
       "      <td>0.05</td>\n",
       "      <td>0.38</td>\n",
       "      <td>0.38</td>\n",
       "      <td>0.23</td>\n",
       "      <td>...</td>\n",
       "      <td>0.11</td>\n",
       "      <td>0.72</td>\n",
       "      <td>0.64</td>\n",
       "      <td>0.61</td>\n",
       "      <td>0.53</td>\n",
       "      <td>0.04</td>\n",
       "      <td>0.09</td>\n",
       "      <td>0.02</td>\n",
       "      <td>0.00</td>\n",
       "      <td>-0.892671</td>\n",
       "    </tr>\n",
       "  </tbody>\n",
       "</table>\n",
       "<p>5 rows × 101 columns</p>\n",
       "</div>"
      ],
      "text/plain": [
       "   state  population  householdsize  racepctblack  racePctWhite  racePctAsian  \\\n",
       "0      8        0.19           0.33          0.02          0.90          0.12   \n",
       "1     53        0.00           0.16          0.12          0.74          0.45   \n",
       "2     24        0.00           0.42          0.49          0.56          0.17   \n",
       "3     34        0.04           0.77          1.00          0.08          0.12   \n",
       "4     42        0.01           0.55          0.02          0.95          0.09   \n",
       "\n",
       "   racePctHisp  agePct12t21  agePct12t29  agePct16t24  ...  PctForeignBorn  \\\n",
       "0         0.17         0.34         0.47         0.29  ...            0.12   \n",
       "1         0.07         0.26         0.59         0.35  ...            0.21   \n",
       "2         0.04         0.39         0.47         0.28  ...            0.14   \n",
       "3         0.10         0.51         0.50         0.34  ...            0.19   \n",
       "4         0.05         0.38         0.38         0.23  ...            0.11   \n",
       "\n",
       "   PctBornSameState  PctSameHouse85  PctSameCity85  PctSameState85  LandArea  \\\n",
       "0              0.42            0.50           0.51            0.64      0.12   \n",
       "1              0.50            0.34           0.60            0.52      0.02   \n",
       "2              0.49            0.54           0.67            0.56      0.01   \n",
       "3              0.30            0.73           0.64            0.65      0.02   \n",
       "4              0.72            0.64           0.61            0.53      0.04   \n",
       "\n",
       "   PopDens  PctUsePubTrans  LemasPctOfficDrugUn    target  \n",
       "0     0.26            0.20                 0.32 -0.163010  \n",
       "1     0.12            0.45                 0.00  1.854288  \n",
       "2     0.21            0.02                 0.00  0.824178  \n",
       "3     0.39            0.28                 0.00 -0.506380  \n",
       "4     0.09            0.02                 0.00 -0.892671  \n",
       "\n",
       "[5 rows x 101 columns]"
      ]
     },
     "execution_count": 250,
     "metadata": {},
     "output_type": "execute_result"
    }
   ],
   "source": [
    "data.head()"
   ]
  },
  {
   "cell_type": "code",
   "execution_count": 251,
   "metadata": {},
   "outputs": [],
   "source": [
    "cols = list(data.columns)\n",
    "cols.remove('target')\n",
    "data[cols] = (data[cols] - data[cols].mean())/data[cols].std()"
   ]
  },
  {
   "cell_type": "code",
   "execution_count": 252,
   "metadata": {},
   "outputs": [],
   "source": [
    "data.to_csv('data/processed/' + data_name + '.csv',index = False)\n"
   ]
  },
  {
   "cell_type": "markdown",
   "metadata": {},
   "source": [
    "## Airfoil"
   ]
  },
  {
   "cell_type": "code",
   "execution_count": 253,
   "metadata": {},
   "outputs": [],
   "source": [
    "data_name = 'airfoil'\n",
    "data = pd.read_csv('data/original/airfoil.dat' ,sep = '\\t', header = None)"
   ]
  },
  {
   "cell_type": "code",
   "execution_count": 254,
   "metadata": {},
   "outputs": [],
   "source": [
    "cols = ['freq','angle','chord','velocity','thickness','target']"
   ]
  },
  {
   "cell_type": "code",
   "execution_count": 255,
   "metadata": {},
   "outputs": [],
   "source": [
    "data.columns = cols"
   ]
  },
  {
   "cell_type": "code",
   "execution_count": 256,
   "metadata": {},
   "outputs": [],
   "source": [
    "data['target'] = (data['target'] - data['target'].mean())/data['target'].std()"
   ]
  },
  {
   "cell_type": "code",
   "execution_count": 257,
   "metadata": {},
   "outputs": [],
   "source": [
    "cols = list(data.columns)\n",
    "cols.remove('target')\n",
    "data[cols] = (data[cols] - data[cols].mean())/data[cols].std()"
   ]
  },
  {
   "cell_type": "code",
   "execution_count": 258,
   "metadata": {},
   "outputs": [],
   "source": [
    "data.to_csv('data/processed/' + data_name + '.csv',index = False)\n"
   ]
  },
  {
   "cell_type": "code",
   "execution_count": 259,
   "metadata": {},
   "outputs": [
    {
     "data": {
      "text/plain": [
       "(1503, 6)"
      ]
     },
     "execution_count": 259,
     "metadata": {},
     "output_type": "execute_result"
    }
   ],
   "source": [
    "data.shape"
   ]
  },
  {
   "cell_type": "code",
   "execution_count": 260,
   "metadata": {},
   "outputs": [
    {
     "data": {
      "text/html": [
       "<div>\n",
       "<style scoped>\n",
       "    .dataframe tbody tr th:only-of-type {\n",
       "        vertical-align: middle;\n",
       "    }\n",
       "\n",
       "    .dataframe tbody tr th {\n",
       "        vertical-align: top;\n",
       "    }\n",
       "\n",
       "    .dataframe thead th {\n",
       "        text-align: right;\n",
       "    }\n",
       "</style>\n",
       "<table border=\"1\" class=\"dataframe\">\n",
       "  <thead>\n",
       "    <tr style=\"text-align: right;\">\n",
       "      <th></th>\n",
       "      <th>freq</th>\n",
       "      <th>angle</th>\n",
       "      <th>chord</th>\n",
       "      <th>velocity</th>\n",
       "      <th>thickness</th>\n",
       "      <th>target</th>\n",
       "    </tr>\n",
       "  </thead>\n",
       "  <tbody>\n",
       "    <tr>\n",
       "      <th>0</th>\n",
       "      <td>-0.661802</td>\n",
       "      <td>-1.146021</td>\n",
       "      <td>1.798701</td>\n",
       "      <td>1.312498</td>\n",
       "      <td>-0.64459</td>\n",
       "      <td>0.197873</td>\n",
       "    </tr>\n",
       "    <tr>\n",
       "      <th>1</th>\n",
       "      <td>-0.598362</td>\n",
       "      <td>-1.146021</td>\n",
       "      <td>1.798701</td>\n",
       "      <td>1.312498</td>\n",
       "      <td>-0.64459</td>\n",
       "      <td>0.052917</td>\n",
       "    </tr>\n",
       "    <tr>\n",
       "      <th>2</th>\n",
       "      <td>-0.519062</td>\n",
       "      <td>-1.146021</td>\n",
       "      <td>1.798701</td>\n",
       "      <td>1.312498</td>\n",
       "      <td>-0.64459</td>\n",
       "      <td>0.161634</td>\n",
       "    </tr>\n",
       "    <tr>\n",
       "      <th>3</th>\n",
       "      <td>-0.408041</td>\n",
       "      <td>-1.146021</td>\n",
       "      <td>1.798701</td>\n",
       "      <td>1.312498</td>\n",
       "      <td>-0.64459</td>\n",
       "      <td>0.399361</td>\n",
       "    </tr>\n",
       "    <tr>\n",
       "      <th>4</th>\n",
       "      <td>-0.281161</td>\n",
       "      <td>-1.146021</td>\n",
       "      <td>1.798701</td>\n",
       "      <td>1.312498</td>\n",
       "      <td>-0.64459</td>\n",
       "      <td>0.380517</td>\n",
       "    </tr>\n",
       "  </tbody>\n",
       "</table>\n",
       "</div>"
      ],
      "text/plain": [
       "       freq     angle     chord  velocity  thickness    target\n",
       "0 -0.661802 -1.146021  1.798701  1.312498   -0.64459  0.197873\n",
       "1 -0.598362 -1.146021  1.798701  1.312498   -0.64459  0.052917\n",
       "2 -0.519062 -1.146021  1.798701  1.312498   -0.64459  0.161634\n",
       "3 -0.408041 -1.146021  1.798701  1.312498   -0.64459  0.399361\n",
       "4 -0.281161 -1.146021  1.798701  1.312498   -0.64459  0.380517"
      ]
     },
     "execution_count": 260,
     "metadata": {},
     "output_type": "execute_result"
    }
   ],
   "source": [
    "data.head()"
   ]
  },
  {
   "cell_type": "code",
   "execution_count": null,
   "metadata": {},
   "outputs": [],
   "source": []
  },
  {
   "cell_type": "markdown",
   "metadata": {},
   "source": [
    "## fish"
   ]
  },
  {
   "cell_type": "code",
   "execution_count": 261,
   "metadata": {},
   "outputs": [],
   "source": [
    "data_name = 'fish'\n",
    "data = pd.read_csv('data/original/fish.csv' ,sep = ';', header = None)"
   ]
  },
  {
   "cell_type": "code",
   "execution_count": 262,
   "metadata": {},
   "outputs": [],
   "source": [
    "cols = ['C1C0','SM1','GATS','Nds','Ndss','MLO','target']"
   ]
  },
  {
   "cell_type": "code",
   "execution_count": 263,
   "metadata": {},
   "outputs": [],
   "source": [
    "data.columns = cols"
   ]
  },
  {
   "cell_type": "code",
   "execution_count": 264,
   "metadata": {},
   "outputs": [],
   "source": [
    "data['target'] = (data['target'] - data['target'].mean())/data['target'].std()"
   ]
  },
  {
   "cell_type": "code",
   "execution_count": 265,
   "metadata": {},
   "outputs": [],
   "source": [
    "cols = list(data.columns)\n",
    "cols.remove('target')\n",
    "data[cols] = (data[cols] - data[cols].mean())/data[cols].std()"
   ]
  },
  {
   "cell_type": "code",
   "execution_count": 266,
   "metadata": {},
   "outputs": [],
   "source": [
    "data.to_csv('data/processed/' + data_name + '.csv',index = False)"
   ]
  },
  {
   "cell_type": "code",
   "execution_count": 267,
   "metadata": {},
   "outputs": [
    {
     "data": {
      "text/plain": [
       "(908, 7)"
      ]
     },
     "execution_count": 267,
     "metadata": {},
     "output_type": "execute_result"
    }
   ],
   "source": [
    "data.shape"
   ]
  },
  {
   "cell_type": "code",
   "execution_count": 268,
   "metadata": {},
   "outputs": [
    {
     "data": {
      "text/html": [
       "<div>\n",
       "<style scoped>\n",
       "    .dataframe tbody tr th:only-of-type {\n",
       "        vertical-align: middle;\n",
       "    }\n",
       "\n",
       "    .dataframe tbody tr th {\n",
       "        vertical-align: top;\n",
       "    }\n",
       "\n",
       "    .dataframe thead th {\n",
       "        text-align: right;\n",
       "    }\n",
       "</style>\n",
       "<table border=\"1\" class=\"dataframe\">\n",
       "  <thead>\n",
       "    <tr style=\"text-align: right;\">\n",
       "      <th></th>\n",
       "      <th>C1C0</th>\n",
       "      <th>SM1</th>\n",
       "      <th>GATS</th>\n",
       "      <th>Nds</th>\n",
       "      <th>Ndss</th>\n",
       "      <th>MLO</th>\n",
       "      <th>target</th>\n",
       "    </tr>\n",
       "  </thead>\n",
       "  <tbody>\n",
       "    <tr>\n",
       "      <th>0</th>\n",
       "      <td>0.478610</td>\n",
       "      <td>0.468031</td>\n",
       "      <td>0.969835</td>\n",
       "      <td>-0.378427</td>\n",
       "      <td>0.597155</td>\n",
       "      <td>-0.457922</td>\n",
       "      <td>-0.202261</td>\n",
       "    </tr>\n",
       "    <tr>\n",
       "      <th>1</th>\n",
       "      <td>-0.937891</td>\n",
       "      <td>-0.113122</td>\n",
       "      <td>-1.092033</td>\n",
       "      <td>-0.378427</td>\n",
       "      <td>-0.563909</td>\n",
       "      <td>-0.531186</td>\n",
       "      <td>-0.652217</td>\n",
       "    </tr>\n",
       "    <tr>\n",
       "      <th>2</th>\n",
       "      <td>-1.022538</td>\n",
       "      <td>0.022247</td>\n",
       "      <td>-1.173188</td>\n",
       "      <td>-0.378427</td>\n",
       "      <td>-0.563909</td>\n",
       "      <td>-0.531186</td>\n",
       "      <td>-0.366443</td>\n",
       "    </tr>\n",
       "    <tr>\n",
       "      <th>3</th>\n",
       "      <td>0.170445</td>\n",
       "      <td>-0.694274</td>\n",
       "      <td>0.452466</td>\n",
       "      <td>1.273551</td>\n",
       "      <td>-0.563909</td>\n",
       "      <td>-0.210919</td>\n",
       "      <td>-0.380869</td>\n",
       "    </tr>\n",
       "    <tr>\n",
       "      <th>4</th>\n",
       "      <td>-1.063538</td>\n",
       "      <td>0.463363</td>\n",
       "      <td>-1.099641</td>\n",
       "      <td>-0.378427</td>\n",
       "      <td>-0.563909</td>\n",
       "      <td>-0.155797</td>\n",
       "      <td>0.910607</td>\n",
       "    </tr>\n",
       "  </tbody>\n",
       "</table>\n",
       "</div>"
      ],
      "text/plain": [
       "       C1C0       SM1      GATS       Nds      Ndss       MLO    target\n",
       "0  0.478610  0.468031  0.969835 -0.378427  0.597155 -0.457922 -0.202261\n",
       "1 -0.937891 -0.113122 -1.092033 -0.378427 -0.563909 -0.531186 -0.652217\n",
       "2 -1.022538  0.022247 -1.173188 -0.378427 -0.563909 -0.531186 -0.366443\n",
       "3  0.170445 -0.694274  0.452466  1.273551 -0.563909 -0.210919 -0.380869\n",
       "4 -1.063538  0.463363 -1.099641 -0.378427 -0.563909 -0.155797  0.910607"
      ]
     },
     "execution_count": 268,
     "metadata": {},
     "output_type": "execute_result"
    }
   ],
   "source": [
    "data.head()"
   ]
  },
  {
   "cell_type": "code",
   "execution_count": null,
   "metadata": {},
   "outputs": [],
   "source": []
  },
  {
   "cell_type": "markdown",
   "metadata": {},
   "source": [
    "## fire"
   ]
  },
  {
   "cell_type": "code",
   "execution_count": 269,
   "metadata": {},
   "outputs": [],
   "source": [
    "data_name = 'fire'\n",
    "data = pd.read_csv('data/original/fire.csv' ,sep = ',')"
   ]
  },
  {
   "cell_type": "code",
   "execution_count": 270,
   "metadata": {},
   "outputs": [],
   "source": [
    "data = pd.concat([pd.get_dummies(data['month'])\n",
    "          ,pd.get_dummies(data['day'])\n",
    "          ,data[['X', 'Y', 'FFMC', 'DMC', 'DC', 'ISI', 'temp', 'RH',\n",
    "       'wind', 'rain', 'area']]],axis = 1)\n",
    "data = data.rename(columns = {'area' : 'target'})"
   ]
  },
  {
   "cell_type": "code",
   "execution_count": 271,
   "metadata": {},
   "outputs": [],
   "source": [
    "data['target'] = (data['target'] - data['target'].mean())/data['target'].std()"
   ]
  },
  {
   "cell_type": "code",
   "execution_count": 272,
   "metadata": {},
   "outputs": [],
   "source": [
    "cols = list(data.columns)\n",
    "cols.remove('target')\n",
    "data[cols] = (data[cols] - data[cols].mean())/data[cols].std()"
   ]
  },
  {
   "cell_type": "code",
   "execution_count": 273,
   "metadata": {},
   "outputs": [],
   "source": [
    "data.to_csv('data/processed/' + data_name + '.csv',index = False)"
   ]
  },
  {
   "cell_type": "code",
   "execution_count": 274,
   "metadata": {},
   "outputs": [
    {
     "data": {
      "text/plain": [
       "(517, 30)"
      ]
     },
     "execution_count": 274,
     "metadata": {},
     "output_type": "execute_result"
    }
   ],
   "source": [
    "data.shape"
   ]
  },
  {
   "cell_type": "code",
   "execution_count": 275,
   "metadata": {},
   "outputs": [
    {
     "data": {
      "text/html": [
       "<div>\n",
       "<style scoped>\n",
       "    .dataframe tbody tr th:only-of-type {\n",
       "        vertical-align: middle;\n",
       "    }\n",
       "\n",
       "    .dataframe tbody tr th {\n",
       "        vertical-align: top;\n",
       "    }\n",
       "\n",
       "    .dataframe thead th {\n",
       "        text-align: right;\n",
       "    }\n",
       "</style>\n",
       "<table border=\"1\" class=\"dataframe\">\n",
       "  <thead>\n",
       "    <tr style=\"text-align: right;\">\n",
       "      <th></th>\n",
       "      <th>apr</th>\n",
       "      <th>aug</th>\n",
       "      <th>dec</th>\n",
       "      <th>feb</th>\n",
       "      <th>jan</th>\n",
       "      <th>jul</th>\n",
       "      <th>jun</th>\n",
       "      <th>mar</th>\n",
       "      <th>may</th>\n",
       "      <th>nov</th>\n",
       "      <th>...</th>\n",
       "      <th>Y</th>\n",
       "      <th>FFMC</th>\n",
       "      <th>DMC</th>\n",
       "      <th>DC</th>\n",
       "      <th>ISI</th>\n",
       "      <th>temp</th>\n",
       "      <th>RH</th>\n",
       "      <th>wind</th>\n",
       "      <th>rain</th>\n",
       "      <th>target</th>\n",
       "    </tr>\n",
       "  </thead>\n",
       "  <tbody>\n",
       "    <tr>\n",
       "      <th>0</th>\n",
       "      <td>-0.132975</td>\n",
       "      <td>-0.74262</td>\n",
       "      <td>-0.132975</td>\n",
       "      <td>-0.200409</td>\n",
       "      <td>-0.062257</td>\n",
       "      <td>-0.256616</td>\n",
       "      <td>-0.184212</td>\n",
       "      <td>2.925319</td>\n",
       "      <td>-0.062257</td>\n",
       "      <td>-0.04398</td>\n",
       "      <td>...</td>\n",
       "      <td>0.569309</td>\n",
       "      <td>-0.805180</td>\n",
       "      <td>-1.322045</td>\n",
       "      <td>-1.828706</td>\n",
       "      <td>-0.860113</td>\n",
       "      <td>-1.840857</td>\n",
       "      <td>0.411326</td>\n",
       "      <td>1.497164</td>\n",
       "      <td>-0.073197</td>\n",
       "      <td>-0.201824</td>\n",
       "    </tr>\n",
       "    <tr>\n",
       "      <th>1</th>\n",
       "      <td>-0.132975</td>\n",
       "      <td>-0.74262</td>\n",
       "      <td>-0.132975</td>\n",
       "      <td>-0.200409</td>\n",
       "      <td>-0.062257</td>\n",
       "      <td>-0.256616</td>\n",
       "      <td>-0.184212</td>\n",
       "      <td>-0.341182</td>\n",
       "      <td>-0.062257</td>\n",
       "      <td>-0.04398</td>\n",
       "      <td>...</td>\n",
       "      <td>-0.243765</td>\n",
       "      <td>-0.008094</td>\n",
       "      <td>-1.178399</td>\n",
       "      <td>0.488418</td>\n",
       "      <td>-0.509195</td>\n",
       "      <td>-0.153130</td>\n",
       "      <td>-0.691786</td>\n",
       "      <td>-1.740070</td>\n",
       "      <td>-0.073197</td>\n",
       "      <td>-0.201824</td>\n",
       "    </tr>\n",
       "    <tr>\n",
       "      <th>2</th>\n",
       "      <td>-0.132975</td>\n",
       "      <td>-0.74262</td>\n",
       "      <td>-0.132975</td>\n",
       "      <td>-0.200409</td>\n",
       "      <td>-0.062257</td>\n",
       "      <td>-0.256616</td>\n",
       "      <td>-0.184212</td>\n",
       "      <td>-0.341182</td>\n",
       "      <td>-0.062257</td>\n",
       "      <td>-0.04398</td>\n",
       "      <td>...</td>\n",
       "      <td>-0.243765</td>\n",
       "      <td>-0.008094</td>\n",
       "      <td>-1.048806</td>\n",
       "      <td>0.560173</td>\n",
       "      <td>-0.509195</td>\n",
       "      <td>-0.738668</td>\n",
       "      <td>-0.691786</td>\n",
       "      <td>-1.516813</td>\n",
       "      <td>-0.073197</td>\n",
       "      <td>-0.201824</td>\n",
       "    </tr>\n",
       "    <tr>\n",
       "      <th>3</th>\n",
       "      <td>-0.132975</td>\n",
       "      <td>-0.74262</td>\n",
       "      <td>-0.132975</td>\n",
       "      <td>-0.200409</td>\n",
       "      <td>-0.062257</td>\n",
       "      <td>-0.256616</td>\n",
       "      <td>-0.184212</td>\n",
       "      <td>2.925319</td>\n",
       "      <td>-0.062257</td>\n",
       "      <td>-0.04398</td>\n",
       "      <td>...</td>\n",
       "      <td>1.382383</td>\n",
       "      <td>0.191177</td>\n",
       "      <td>-1.211188</td>\n",
       "      <td>-1.896429</td>\n",
       "      <td>-0.004751</td>\n",
       "      <td>-1.823636</td>\n",
       "      <td>3.230391</td>\n",
       "      <td>-0.009824</td>\n",
       "      <td>0.602572</td>\n",
       "      <td>-0.201824</td>\n",
       "    </tr>\n",
       "    <tr>\n",
       "      <th>4</th>\n",
       "      <td>-0.132975</td>\n",
       "      <td>-0.74262</td>\n",
       "      <td>-0.132975</td>\n",
       "      <td>-0.200409</td>\n",
       "      <td>-0.062257</td>\n",
       "      <td>-0.256616</td>\n",
       "      <td>-0.184212</td>\n",
       "      <td>2.925319</td>\n",
       "      <td>-0.062257</td>\n",
       "      <td>-0.04398</td>\n",
       "      <td>...</td>\n",
       "      <td>1.382383</td>\n",
       "      <td>-0.243597</td>\n",
       "      <td>-0.930142</td>\n",
       "      <td>-1.796859</td>\n",
       "      <td>0.126843</td>\n",
       "      <td>-1.289763</td>\n",
       "      <td>3.352959</td>\n",
       "      <td>-1.237741</td>\n",
       "      <td>-0.073197</td>\n",
       "      <td>-0.201824</td>\n",
       "    </tr>\n",
       "  </tbody>\n",
       "</table>\n",
       "<p>5 rows × 30 columns</p>\n",
       "</div>"
      ],
      "text/plain": [
       "        apr      aug       dec       feb       jan       jul       jun  \\\n",
       "0 -0.132975 -0.74262 -0.132975 -0.200409 -0.062257 -0.256616 -0.184212   \n",
       "1 -0.132975 -0.74262 -0.132975 -0.200409 -0.062257 -0.256616 -0.184212   \n",
       "2 -0.132975 -0.74262 -0.132975 -0.200409 -0.062257 -0.256616 -0.184212   \n",
       "3 -0.132975 -0.74262 -0.132975 -0.200409 -0.062257 -0.256616 -0.184212   \n",
       "4 -0.132975 -0.74262 -0.132975 -0.200409 -0.062257 -0.256616 -0.184212   \n",
       "\n",
       "        mar       may      nov  ...         Y      FFMC       DMC        DC  \\\n",
       "0  2.925319 -0.062257 -0.04398  ...  0.569309 -0.805180 -1.322045 -1.828706   \n",
       "1 -0.341182 -0.062257 -0.04398  ... -0.243765 -0.008094 -1.178399  0.488418   \n",
       "2 -0.341182 -0.062257 -0.04398  ... -0.243765 -0.008094 -1.048806  0.560173   \n",
       "3  2.925319 -0.062257 -0.04398  ...  1.382383  0.191177 -1.211188 -1.896429   \n",
       "4  2.925319 -0.062257 -0.04398  ...  1.382383 -0.243597 -0.930142 -1.796859   \n",
       "\n",
       "        ISI      temp        RH      wind      rain    target  \n",
       "0 -0.860113 -1.840857  0.411326  1.497164 -0.073197 -0.201824  \n",
       "1 -0.509195 -0.153130 -0.691786 -1.740070 -0.073197 -0.201824  \n",
       "2 -0.509195 -0.738668 -0.691786 -1.516813 -0.073197 -0.201824  \n",
       "3 -0.004751 -1.823636  3.230391 -0.009824  0.602572 -0.201824  \n",
       "4  0.126843 -1.289763  3.352959 -1.237741 -0.073197 -0.201824  \n",
       "\n",
       "[5 rows x 30 columns]"
      ]
     },
     "execution_count": 275,
     "metadata": {},
     "output_type": "execute_result"
    }
   ],
   "source": [
    "data.head()"
   ]
  },
  {
   "cell_type": "code",
   "execution_count": 276,
   "metadata": {},
   "outputs": [
    {
     "data": {
      "text/plain": [
       "Index(['apr', 'aug', 'dec', 'feb', 'jan', 'jul', 'jun', 'mar', 'may', 'nov',\n",
       "       'oct', 'sep', 'fri', 'mon', 'sat', 'sun', 'thu', 'tue', 'wed', 'X', 'Y',\n",
       "       'FFMC', 'DMC', 'DC', 'ISI', 'temp', 'RH', 'wind', 'rain', 'target'],\n",
       "      dtype='object')"
      ]
     },
     "execution_count": 276,
     "metadata": {},
     "output_type": "execute_result"
    }
   ],
   "source": [
    "data.columns"
   ]
  },
  {
   "cell_type": "markdown",
   "metadata": {},
   "source": [
    "## leaf"
   ]
  },
  {
   "cell_type": "code",
   "execution_count": 277,
   "metadata": {},
   "outputs": [],
   "source": [
    "data_name = 'leaf'\n",
    "data = pd.read_csv('data/original/leaf.csv' ,sep = ',',header = None)"
   ]
  },
  {
   "cell_type": "code",
   "execution_count": 278,
   "metadata": {},
   "outputs": [],
   "source": [
    "cols = ['target','spec_num','eccentricity','aspect_ratio','elongation','solidity',\n",
    "        'stochastic_convexity','isoperimetric_factor','maximal_indentation_depth',\n",
    "        'lobedness','average_intensity','average_contrast','smoothness','third_moment',\n",
    "        'uniformity','entropy']"
   ]
  },
  {
   "cell_type": "code",
   "execution_count": 279,
   "metadata": {},
   "outputs": [],
   "source": [
    "data.columns = cols"
   ]
  },
  {
   "cell_type": "code",
   "execution_count": 280,
   "metadata": {},
   "outputs": [],
   "source": [
    "cols = list(data.columns)\n",
    "cols.remove('target')\n",
    "data[cols] = (data[cols] - data[cols].mean())/data[cols].std()"
   ]
  },
  {
   "cell_type": "code",
   "execution_count": 281,
   "metadata": {},
   "outputs": [],
   "source": [
    "data.to_csv('data/processed/' + data_name + '.csv',index = False)"
   ]
  },
  {
   "cell_type": "code",
   "execution_count": 282,
   "metadata": {},
   "outputs": [
    {
     "data": {
      "text/plain": [
       "(340, 16)"
      ]
     },
     "execution_count": 282,
     "metadata": {},
     "output_type": "execute_result"
    }
   ],
   "source": [
    "data.shape"
   ]
  },
  {
   "cell_type": "code",
   "execution_count": 283,
   "metadata": {},
   "outputs": [
    {
     "data": {
      "text/html": [
       "<div>\n",
       "<style scoped>\n",
       "    .dataframe tbody tr th:only-of-type {\n",
       "        vertical-align: middle;\n",
       "    }\n",
       "\n",
       "    .dataframe tbody tr th {\n",
       "        vertical-align: top;\n",
       "    }\n",
       "\n",
       "    .dataframe thead th {\n",
       "        text-align: right;\n",
       "    }\n",
       "</style>\n",
       "<table border=\"1\" class=\"dataframe\">\n",
       "  <thead>\n",
       "    <tr style=\"text-align: right;\">\n",
       "      <th></th>\n",
       "      <th>target</th>\n",
       "      <th>spec_num</th>\n",
       "      <th>eccentricity</th>\n",
       "      <th>aspect_ratio</th>\n",
       "      <th>elongation</th>\n",
       "      <th>solidity</th>\n",
       "      <th>stochastic_convexity</th>\n",
       "      <th>isoperimetric_factor</th>\n",
       "      <th>maximal_indentation_depth</th>\n",
       "      <th>lobedness</th>\n",
       "      <th>average_intensity</th>\n",
       "      <th>average_contrast</th>\n",
       "      <th>smoothness</th>\n",
       "      <th>third_moment</th>\n",
       "      <th>uniformity</th>\n",
       "      <th>entropy</th>\n",
       "    </tr>\n",
       "  </thead>\n",
       "  <tbody>\n",
       "    <tr>\n",
       "      <th>0</th>\n",
       "      <td>1</td>\n",
       "      <td>-1.525466</td>\n",
       "      <td>0.034016</td>\n",
       "      <td>-0.371679</td>\n",
       "      <td>-0.970434</td>\n",
       "      <td>0.708242</td>\n",
       "      <td>0.488559</td>\n",
       "      <td>1.400654</td>\n",
       "      <td>-0.847390</td>\n",
       "      <td>-0.500076</td>\n",
       "      <td>-0.098884</td>\n",
       "      <td>0.065854</td>\n",
       "      <td>-0.113557</td>\n",
       "      <td>-0.131357</td>\n",
       "      <td>-0.260646</td>\n",
       "      <td>0.022177</td>\n",
       "    </tr>\n",
       "    <tr>\n",
       "      <th>1</th>\n",
       "      <td>1</td>\n",
       "      <td>-1.236681</td>\n",
       "      <td>0.105015</td>\n",
       "      <td>-0.351864</td>\n",
       "      <td>-0.780234</td>\n",
       "      <td>0.674833</td>\n",
       "      <td>0.473348</td>\n",
       "      <td>1.229414</td>\n",
       "      <td>-0.832207</td>\n",
       "      <td>-0.499061</td>\n",
       "      <td>-0.755913</td>\n",
       "      <td>-0.656750</td>\n",
       "      <td>-0.694326</td>\n",
       "      <td>-0.608168</td>\n",
       "      <td>-0.724033</td>\n",
       "      <td>-0.796849</td>\n",
       "    </tr>\n",
       "    <tr>\n",
       "      <th>2</th>\n",
       "      <td>1</td>\n",
       "      <td>-0.947896</td>\n",
       "      <td>0.227380</td>\n",
       "      <td>-0.333858</td>\n",
       "      <td>-0.632879</td>\n",
       "      <td>0.640202</td>\n",
       "      <td>0.488559</td>\n",
       "      <td>1.272856</td>\n",
       "      <td>-0.774786</td>\n",
       "      <td>-0.494137</td>\n",
       "      <td>-1.096884</td>\n",
       "      <td>-1.293681</td>\n",
       "      <td>-1.045498</td>\n",
       "      <td>-0.945773</td>\n",
       "      <td>-0.809700</td>\n",
       "      <td>-1.229623</td>\n",
       "    </tr>\n",
       "    <tr>\n",
       "      <th>3</th>\n",
       "      <td>1</td>\n",
       "      <td>-0.659110</td>\n",
       "      <td>0.086965</td>\n",
       "      <td>-0.377258</td>\n",
       "      <td>-0.818069</td>\n",
       "      <td>0.623716</td>\n",
       "      <td>0.488559</td>\n",
       "      <td>1.313540</td>\n",
       "      <td>-0.789835</td>\n",
       "      <td>-0.495593</td>\n",
       "      <td>-0.984191</td>\n",
       "      <td>-1.138532</td>\n",
       "      <td>-0.974136</td>\n",
       "      <td>-0.901626</td>\n",
       "      <td>-0.743906</td>\n",
       "      <td>-0.982775</td>\n",
       "    </tr>\n",
       "    <tr>\n",
       "      <th>4</th>\n",
       "      <td>1</td>\n",
       "      <td>-0.370325</td>\n",
       "      <td>0.495201</td>\n",
       "      <td>-0.257599</td>\n",
       "      <td>-0.353509</td>\n",
       "      <td>0.635230</td>\n",
       "      <td>0.488559</td>\n",
       "      <td>1.028340</td>\n",
       "      <td>-0.775545</td>\n",
       "      <td>-0.494213</td>\n",
       "      <td>-1.206967</td>\n",
       "      <td>-1.527119</td>\n",
       "      <td>-1.135480</td>\n",
       "      <td>-1.013928</td>\n",
       "      <td>-0.843035</td>\n",
       "      <td>-1.402898</td>\n",
       "    </tr>\n",
       "  </tbody>\n",
       "</table>\n",
       "</div>"
      ],
      "text/plain": [
       "   target  spec_num  eccentricity  aspect_ratio  elongation  solidity  \\\n",
       "0       1 -1.525466      0.034016     -0.371679   -0.970434  0.708242   \n",
       "1       1 -1.236681      0.105015     -0.351864   -0.780234  0.674833   \n",
       "2       1 -0.947896      0.227380     -0.333858   -0.632879  0.640202   \n",
       "3       1 -0.659110      0.086965     -0.377258   -0.818069  0.623716   \n",
       "4       1 -0.370325      0.495201     -0.257599   -0.353509  0.635230   \n",
       "\n",
       "   stochastic_convexity  isoperimetric_factor  maximal_indentation_depth  \\\n",
       "0              0.488559              1.400654                  -0.847390   \n",
       "1              0.473348              1.229414                  -0.832207   \n",
       "2              0.488559              1.272856                  -0.774786   \n",
       "3              0.488559              1.313540                  -0.789835   \n",
       "4              0.488559              1.028340                  -0.775545   \n",
       "\n",
       "   lobedness  average_intensity  average_contrast  smoothness  third_moment  \\\n",
       "0  -0.500076          -0.098884          0.065854   -0.113557     -0.131357   \n",
       "1  -0.499061          -0.755913         -0.656750   -0.694326     -0.608168   \n",
       "2  -0.494137          -1.096884         -1.293681   -1.045498     -0.945773   \n",
       "3  -0.495593          -0.984191         -1.138532   -0.974136     -0.901626   \n",
       "4  -0.494213          -1.206967         -1.527119   -1.135480     -1.013928   \n",
       "\n",
       "   uniformity   entropy  \n",
       "0   -0.260646  0.022177  \n",
       "1   -0.724033 -0.796849  \n",
       "2   -0.809700 -1.229623  \n",
       "3   -0.743906 -0.982775  \n",
       "4   -0.843035 -1.402898  "
      ]
     },
     "execution_count": 283,
     "metadata": {},
     "output_type": "execute_result"
    }
   ],
   "source": [
    "data.head()"
   ]
  },
  {
   "cell_type": "code",
   "execution_count": null,
   "metadata": {},
   "outputs": [],
   "source": []
  },
  {
   "cell_type": "code",
   "execution_count": null,
   "metadata": {},
   "outputs": [],
   "source": []
  },
  {
   "cell_type": "code",
   "execution_count": null,
   "metadata": {},
   "outputs": [],
   "source": []
  },
  {
   "cell_type": "code",
   "execution_count": null,
   "metadata": {},
   "outputs": [],
   "source": []
  }
 ],
 "metadata": {
  "kernelspec": {
   "display_name": "Python 3",
   "language": "python",
   "name": "python3"
  },
  "language_info": {
   "codemirror_mode": {
    "name": "ipython",
    "version": 3
   },
   "file_extension": ".py",
   "mimetype": "text/x-python",
   "name": "python",
   "nbconvert_exporter": "python",
   "pygments_lexer": "ipython3",
   "version": "3.6.4"
  }
 },
 "nbformat": 4,
 "nbformat_minor": 2
}
