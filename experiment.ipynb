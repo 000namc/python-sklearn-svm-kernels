{
 "cells": [
  {
   "cell_type": "code",
   "execution_count": 31,
   "metadata": {},
   "outputs": [],
   "source": [
    "import os\n",
    "import sys\n",
    "import pandas as pd\n",
    "import numpy as np"
   ]
  },
  {
   "cell_type": "code",
   "execution_count": 34,
   "metadata": {},
   "outputs": [
    {
     "name": "stdout",
     "output_type": "stream",
     "text": [
      "______________________________________________________\n",
      "linear\n",
      "10fold평균 결과, train set :  0.9729951537300389\n",
      "10fold평균 결과, valid set :  0.9663469735720376\n",
      "______________________________________________________\n",
      "polynomial\n",
      "10fold평균 결과, train set :  1.0\n",
      "10fold평균 결과, valid set :  0.9356777493606137\n",
      "______________________________________________________\n",
      "gaussian\n",
      "10fold평균 결과, train set :  1.0\n",
      "10fold평균 결과, valid set :  0.9179667519181585\n",
      "______________________________________________________\n",
      "exponential\n",
      "10fold평균 결과, train set :  0.9983734540928471\n",
      "10fold평균 결과, valid set :  0.9605072463768115\n",
      "______________________________________________________\n",
      "hyperbolic_tangent\n",
      "10fold평균 결과, train set :  0.6500775932840763\n",
      "10fold평균 결과, valid set :  0.6504262574595056\n",
      "______________________________________________________\n",
      "rational_quadratic\n",
      "10fold평균 결과, train set :  1.0\n",
      "10fold평균 결과, valid set :  0.9561594202898551\n",
      "______________________________________________________\n",
      "inverse_multiquadratic\n",
      "10fold평균 결과, train set :  0.9941439580519585\n",
      "10fold평균 결과, valid set :  0.9678388746803069\n",
      "______________________________________________________\n",
      "log\n",
      "10fold평균 결과, train set :  1.0\n",
      "10fold평균 결과, valid set :  0.9664109121909634\n",
      "______________________________________________________\n",
      "power\n",
      "10fold평균 결과, train set :  0.960469002409894\n",
      "10fold평균 결과, valid set :  0.9649829497016199\n",
      "Traceback (most recent call last):\n",
      "  File \"evaluate.py\", line 92, in <module>\n",
      "    result['valid_std'] = [[np.array(score_valid[kernel_name]).std() for kernel_name in kernel_names]]\n",
      "  File \"/home/namc/.pyenv/versions/py36/lib/python3.6/site-packages/pandas/core/frame.py\", line 3119, in __setitem__\n",
      "    self._set_item(key, value)\n",
      "  File \"/home/namc/.pyenv/versions/py36/lib/python3.6/site-packages/pandas/core/frame.py\", line 3194, in _set_item\n",
      "    value = self._sanitize_column(key, value)\n",
      "  File \"/home/namc/.pyenv/versions/py36/lib/python3.6/site-packages/pandas/core/frame.py\", line 3391, in _sanitize_column\n",
      "    value = _sanitize_index(value, self.index, copy=False)\n",
      "  File \"/home/namc/.pyenv/versions/py36/lib/python3.6/site-packages/pandas/core/series.py\", line 4001, in _sanitize_index\n",
      "    raise ValueError('Length of values does not match length of ' 'index')\n",
      "ValueError: Length of values does not match length of index\n"
     ]
    }
   ],
   "source": [
    "!python evaluate.py breast_cancer\n"
   ]
  },
  {
   "cell_type": "code",
   "execution_count": 35,
   "metadata": {},
   "outputs": [],
   "source": [
    "# !python evaluate.py breast_cancer\n",
    "# !python evaluate.py yeast\n",
    "# !python evaluate.py segmentation\n",
    "# !python evaluate.py waveform"
   ]
  },
  {
   "cell_type": "code",
   "execution_count": null,
   "metadata": {},
   "outputs": [],
   "source": [
    "pd.read_csv('breast_cancer_result.csv')"
   ]
  },
  {
   "cell_type": "markdown",
   "metadata": {},
   "source": [
    "## results\n"
   ]
  },
  {
   "cell_type": "code",
   "execution_count": null,
   "metadata": {},
   "outputs": [],
   "source": [
    "\n",
    "data_names = ['breast_cancer','yeast','segmentation','waveform','australian']\n",
    "kernel_names = ['linear'\n",
    "               ,'polynomial'\n",
    "               ,'gaussian'\n",
    "               ,'exponential'\n",
    "               ,'hyperbolic_tangent'\n",
    "               ,'rational_quadratic'\n",
    "               ,'inverse_multiquadratic'\n",
    "               ,'log'\n",
    "               ,'power']\n",
    "results = pd.DataFrame(columns = ['dataset'] + kernel_names)\n",
    "results['dataset'] = data_names\n",
    "\n",
    "\n"
   ]
  },
  {
   "cell_type": "code",
   "execution_count": null,
   "metadata": {},
   "outputs": [],
   "source": [
    "\n",
    "for data_name in data_names:\n",
    "    for kernel_name in kernel_names:\n",
    "        temp = pd.read_csv(data_name + '_result.csv')\n",
    "        results.loc[results['dataset'] == data_name,kernel_name] = str(round(temp.loc[temp['kernel'] == kernel_name,'train_score'],4).values[0]) + '/' + str(round(temp.loc[temp['kernel'] == kernel_name,'valid_score'],4).values[0])\n",
    "\n"
   ]
  },
  {
   "cell_type": "code",
   "execution_count": null,
   "metadata": {},
   "outputs": [],
   "source": [
    "results"
   ]
  },
  {
   "cell_type": "code",
   "execution_count": null,
   "metadata": {},
   "outputs": [],
   "source": []
  }
 ],
 "metadata": {
  "kernelspec": {
   "display_name": "Python 3",
   "language": "python",
   "name": "python3"
  },
  "language_info": {
   "codemirror_mode": {
    "name": "ipython",
    "version": 3
   },
   "file_extension": ".py",
   "mimetype": "text/x-python",
   "name": "python",
   "nbconvert_exporter": "python",
   "pygments_lexer": "ipython3",
   "version": "3.6.4"
  }
 },
 "nbformat": 4,
 "nbformat_minor": 2
}
