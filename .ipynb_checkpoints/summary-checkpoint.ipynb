{
 "cells": [
  {
   "cell_type": "code",
   "execution_count": 1,
   "metadata": {},
   "outputs": [],
   "source": [
    "import os\n",
    "import sys\n",
    "import pandas as pd\n",
    "import numpy as np"
   ]
  },
  {
   "cell_type": "code",
   "execution_count": 2,
   "metadata": {},
   "outputs": [],
   "source": [
    "data_names = ['breast_cancer','yeast','segmentation','waveform','australian']\n",
    "kernel_names = ['linear'\n",
    "               ,'polynomial'\n",
    "               ,'gaussian'\n",
    "               ,'exponential'\n",
    "               ,'hyperbolic_tangent'\n",
    "               ,'rational_quadratic'\n",
    "               ,'inverse_multiquadratic'\n",
    "               ,'log'\n",
    "               ,'power']\n",
    "results = pd.DataFrame(columns = ['dataset'] + kernel_names)\n",
    "results['dataset'] = data_names"
   ]
  },
  {
   "cell_type": "code",
   "execution_count": null,
   "metadata": {},
   "outputs": [],
   "source": [
    "for data_name in data_names:\n",
    "    for kernel_name in kernel_names:\n",
    "        temp = pd.read_csv('result/' + data_name + '.csv')\n",
    "        results.loc[results['dataset'] == data_name,kernel_name] = str(round(temp.loc[temp['kernel'] == kernel_name,'train_score'],4).values[0]) + '/' + str(round(temp.loc[temp['kernel'] == kernel_name,'valid_score'],4).values[0])\n",
    "        "
   ]
  }
 ],
 "metadata": {
  "kernelspec": {
   "display_name": "Python 3",
   "language": "python",
   "name": "python3"
  },
  "language_info": {
   "codemirror_mode": {
    "name": "ipython",
    "version": 3
   },
   "file_extension": ".py",
   "mimetype": "text/x-python",
   "name": "python",
   "nbconvert_exporter": "python",
   "pygments_lexer": "ipython3",
   "version": "3.6.4"
  }
 },
 "nbformat": 4,
 "nbformat_minor": 2
}
