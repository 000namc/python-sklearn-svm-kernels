{
 "cells": [
  {
   "cell_type": "code",
   "execution_count": 233,
   "metadata": {},
   "outputs": [],
   "source": [
    "from sklearn.model_selection import ParameterGrid\n",
    "import numpy as np\n",
    "import pandas as pd"
   ]
  },
  {
   "cell_type": "code",
   "execution_count": 196,
   "metadata": {},
   "outputs": [],
   "source": [
    "parameter = {}\n",
    "\n",
    "parameter['linear'] = {'alpha1':[0,10,100], 'alpha2':[0], 'lambda' : [1,10,100], 'epsilon' : [0.5,1,2]}\n",
    "parameter['polynomial'] = {'alpha1':[2,5,8], 'alpha2':[0,10,100], 'lambda' : [1,10,100], 'epsilon' : [0.5,1,2]}\n",
    "parameter['hyperbolic_tangent'] = {'alpha1':[0.5,1,5], 'alpha2':[0,10,100], 'lambda' : [1,10,100], 'epsilon' : [0.5,1,2]}\n",
    "parameter['vovks_real_polynomial'] = {'alpha1':[2,5,8], 'alpha2':[0], 'lambda' : [1,10,100], 'epsilon' : [0.5,1,2]}\n",
    "parameter['vovks_infinite_polynomial'] = {'alpha1':[0], 'alpha2':[0], 'lambda' : [1,10,100], 'epsilon' : [0.5,1,2]}\n",
    "parameter['gaussian'] = {'alpha1':[0.5,1,5], 'alpha2':[0], 'lambda' : [1,10,100], 'epsilon' : [0.5,1,2]}\n",
    "parameter['laplacian'] = {'alpha1':[0.5,1,5], 'alpha2':[0], 'lambda' : [1,10,100], 'epsilon' : [0.5,1,2]}\n",
    "parameter['rational_quadratic'] = {'alpha1':[1,10,100], 'alpha2':[0], 'lambda' : [1,10,100], 'epsilon' : [0.5,1,2]}\n",
    "parameter['multiquadratic'] = {'alpha1':[1,5,10], 'alpha2':[0], 'lambda' : [1,10,100], 'epsilon' : [0.5,1,2]}\n",
    "parameter['inverse_multiquadratic'] = {'alpha1':[1,5,10], 'alpha2':[0], 'lambda' : [1,10,100], 'epsilon' : [0.5,1,2]}\n",
    "parameter['circular'] = {'alpha1':[0.5,1,5], 'alpha2':[0], 'lambda' : [1,10,100], 'epsilon' : [0.5,1,2]}\n",
    "parameter['spherical'] = {'alpha1':[0.5,1,5], 'alpha2':[0], 'lambda' : [1,10,100], 'epsilon' : [0.5,1,2]}\n",
    "parameter['wave'] = {'alpha1':[0.5,1,5], 'alpha2':[0], 'lambda' : [1,10,100], 'epsilon' : [0.5,1,2]}\n",
    "parameter['power'] = {'alpha1':[2,2.2,2.5], 'alpha2':[0], 'lambda' : [1,10,100], 'epsilon' : [0.5,1,2]}\n",
    "parameter['log'] = {'alpha1':[2,5,8], 'alpha2':[0], 'lambda' : [1,10,100], 'epsilon' : [0.5,1,2]}\n",
    "parameter['generalized_tstudent'] = {'alpha1':[2,5,8], 'alpha2':[0], 'lambda' : [1,10,100], 'epsilon' : [0.5,1,2]}\n",
    "parameter['anova'] = {'alpha1':[0.5,1,5], 'alpha2':[2,2.2,2.5], 'lambda' : [1,10,100], 'epsilon' : [0.5,1,2]}\n",
    "parameter['spline'] = {'alpha1':[0], 'alpha2':[0], 'lambda' : [1,10,100], 'epsilon' : [0.5,1,2]}\n",
    "parameter['chi_square'] = {'alpha1':[0], 'alpha2':[0], 'lambda' : [1,10,100], 'epsilon' : [0.5,1,2]}\n",
    "parameter['histogram_intersection'] = {'alpha1':[0], 'alpha2':[0], 'lambda' : [1,10,100], 'epsilon' : [0.5,1,2]}\n",
    "parameter['hellingers'] = {'alpha1':[0], 'alpha2':[0], 'lambda' : [1,10,100], 'epsilon' : [0.5,1,2]}\n"
   ]
  },
  {
   "cell_type": "code",
   "execution_count": 197,
   "metadata": {},
   "outputs": [],
   "source": [
    "kernels = list(parameter.keys())"
   ]
  },
  {
   "cell_type": "code",
   "execution_count": 178,
   "metadata": {},
   "outputs": [],
   "source": [
    "data_names = ['breast_cancer'\n",
    "             ,'yeast'\n",
    "             ,'segmentation'\n",
    "             ,'waveform'\n",
    "             ,'leaf'\n",
    "             ,'wine'\n",
    "             ,'crime'\n",
    "             ,'airfoil'\n",
    "             ,'fire'\n",
    "             ,'fish']\n",
    "classification = ['breast_cancer','yeast','segmentation','waveform','leaf']"
   ]
  },
  {
   "cell_type": "code",
   "execution_count": 179,
   "metadata": {},
   "outputs": [],
   "source": [
    "txt = open('/Users/000namc/github/python-sklearn-svm-kernels/parameter.txt','wt')\n",
    "\n",
    "for data in data_names:\n",
    "    for kernel in kernels:\n",
    "        for pars in ParameterGrid(parameter[kernel]):\n",
    "            \n",
    "            if (data in classification) and (pars['epsilon'] > 0.5):\n",
    "                continue\n",
    "            txt.write('python evaluate.py ' + data + ' ' + kernel + ' ' + str(pars['alpha1']) + ' ' + str(pars['alpha2']) + ' ' + str(pars['lambda']) + ' ' + str(pars['epsilon']) + '\\n')\n",
    "\n",
    "txt.close()\n"
   ]
  },
  {
   "cell_type": "code",
   "execution_count": null,
   "metadata": {},
   "outputs": [],
   "source": []
  },
  {
   "cell_type": "code",
   "execution_count": 180,
   "metadata": {},
   "outputs": [],
   "source": [
    "import os\n",
    "import shutil"
   ]
  },
  {
   "cell_type": "code",
   "execution_count": 181,
   "metadata": {},
   "outputs": [
    {
     "data": {
      "text/plain": [
       "'/Users/000namc/.Trash/result 12.48.25 AM'"
      ]
     },
     "execution_count": 181,
     "metadata": {},
     "output_type": "execute_result"
    }
   ],
   "source": [
    "os.getcwd()"
   ]
  },
  {
   "cell_type": "code",
   "execution_count": 182,
   "metadata": {},
   "outputs": [
    {
     "data": {
      "text/plain": [
       "['breast_cancer',\n",
       " 'yeast',\n",
       " 'segmentation',\n",
       " 'waveform',\n",
       " 'leaf',\n",
       " 'wine',\n",
       " 'crime',\n",
       " 'airfoil',\n",
       " 'fire',\n",
       " 'fish']"
      ]
     },
     "execution_count": 182,
     "metadata": {},
     "output_type": "execute_result"
    }
   ],
   "source": [
    "data_names"
   ]
  },
  {
   "cell_type": "code",
   "execution_count": 202,
   "metadata": {},
   "outputs": [],
   "source": [
    "data = 'leaf'\n",
    "for kernel in kernels:\n",
    "    for pars in ParameterGrid(parameter[kernel]):\n",
    "\n",
    "        if (data in classification) and (pars['epsilon'] > 0.5):\n",
    "            continue\n",
    "        dirf_name = '/Users/000namc/temp/result2/'\n",
    "        dirt_name = '/Users/000namc/github/python-sklearn-svm-kernels/result/'\n",
    "        file_name = data + '_' + kernel + '_' + str(float(pars['alpha1'])) + '_' + str(float(pars['alpha2'])) + '_' + str(float(pars['lambda'])) + '_' + str(float(pars['epsilon'])) + '.csv'\n",
    "        try:\n",
    "            shutil.move(dirf_name + file_name, dirt_name + file_name)\n",
    "        except:\n",
    "            0\n"
   ]
  },
  {
   "cell_type": "code",
   "execution_count": null,
   "metadata": {},
   "outputs": [],
   "source": []
  },
  {
   "cell_type": "code",
   "execution_count": 122,
   "metadata": {},
   "outputs": [
    {
     "data": {
      "text/plain": [
       "'/Users/000namc/temp/result2/'"
      ]
     },
     "execution_count": 122,
     "metadata": {},
     "output_type": "execute_result"
    }
   ],
   "source": [
    "dirf_name"
   ]
  },
  {
   "cell_type": "code",
   "execution_count": null,
   "metadata": {},
   "outputs": [],
   "source": []
  },
  {
   "cell_type": "code",
   "execution_count": 203,
   "metadata": {},
   "outputs": [
    {
     "data": {
      "text/plain": [
       "4200"
      ]
     },
     "execution_count": 203,
     "metadata": {},
     "output_type": "execute_result"
    }
   ],
   "source": [
    "len(os.listdir(dirt_name))"
   ]
  },
  {
   "cell_type": "code",
   "execution_count": 207,
   "metadata": {},
   "outputs": [
    {
     "data": {
      "text/plain": [
       "['breast_cancer',\n",
       " 'yeast',\n",
       " 'segmentation',\n",
       " 'waveform',\n",
       " 'leaf',\n",
       " 'wine',\n",
       " 'crime',\n",
       " 'airfoil',\n",
       " 'fire',\n",
       " 'fish']"
      ]
     },
     "execution_count": 207,
     "metadata": {},
     "output_type": "execute_result"
    }
   ],
   "source": [
    "data_names"
   ]
  },
  {
   "cell_type": "code",
   "execution_count": 241,
   "metadata": {},
   "outputs": [
    {
     "name": "stdout",
     "output_type": "stream",
     "text": [
      "639\n"
     ]
    }
   ],
   "source": [
    "data = 'fish'\n",
    "data_list = [x for x in os.listdir(dirt_name) if data in x]\n",
    "\n",
    "\n",
    "count = 0\n",
    "\n",
    "for kernel in kernels:\n",
    "    for pars in ParameterGrid(parameter[kernel]):\n",
    "\n",
    "        if (data in classification) and (pars['epsilon'] > 0.5):\n",
    "            continue\n",
    "        \n",
    "        count += 1\n",
    "\n",
    "        file_name = data + '_' + kernel + '_' + str(float(pars['alpha1'])) + '_' + str(float(pars['alpha2'])) + '_' + str(float(pars['lambda'])) + '_' + str(float(pars['epsilon'])) + '.csv'\n",
    "        \n",
    "        if file_name not in data_list:\n",
    "            result = pd.DataFrame()\n",
    "            result['kernel'] = [kernel] * 1\n",
    "            result['alpha1'] = pars['alpha1']\n",
    "            result['alpha2'] = pars['alpha1']\n",
    "            result['lambda'] = pars['lambda']\n",
    "            result['epsilon'] = pars['epsilon']\n",
    "            score_train = [-1] * 10\n",
    "            score_valid = [-1] * 10\n",
    "\n",
    "            result['train_score'] = np.array(score_train).mean()\n",
    "            result['valid_score'] = np.array(score_valid).mean()\n",
    "            result['valid_std'] = np.array(score_valid).std()\n",
    "            \n",
    "            result.to_csv(dirt_name + file_name, index = False)\n",
    "print(count)\n",
    "\n",
    "\n",
    "\n"
   ]
  },
  {
   "cell_type": "code",
   "execution_count": null,
   "metadata": {},
   "outputs": [],
   "source": []
  },
  {
   "cell_type": "code",
   "execution_count": null,
   "metadata": {},
   "outputs": [],
   "source": []
  },
  {
   "cell_type": "code",
   "execution_count": 242,
   "metadata": {},
   "outputs": [
    {
     "data": {
      "text/plain": [
       "213"
      ]
     },
     "execution_count": 242,
     "metadata": {},
     "output_type": "execute_result"
    }
   ],
   "source": [
    "len([x for x in os.listdir(dirt_name) if 'breast_cancer' in x])"
   ]
  },
  {
   "cell_type": "code",
   "execution_count": 243,
   "metadata": {},
   "outputs": [
    {
     "data": {
      "text/plain": [
       "213"
      ]
     },
     "execution_count": 243,
     "metadata": {},
     "output_type": "execute_result"
    }
   ],
   "source": [
    "len([x for x in os.listdir(dirt_name) if 'yeast' in x])"
   ]
  },
  {
   "cell_type": "code",
   "execution_count": 244,
   "metadata": {},
   "outputs": [
    {
     "data": {
      "text/plain": [
       "213"
      ]
     },
     "execution_count": 244,
     "metadata": {},
     "output_type": "execute_result"
    }
   ],
   "source": [
    "len([x for x in os.listdir(dirt_name) if 'segmentation' in x])"
   ]
  },
  {
   "cell_type": "code",
   "execution_count": 245,
   "metadata": {},
   "outputs": [
    {
     "data": {
      "text/plain": [
       "213"
      ]
     },
     "execution_count": 245,
     "metadata": {},
     "output_type": "execute_result"
    }
   ],
   "source": [
    "len([x for x in os.listdir(dirt_name) if 'waveform' in x])"
   ]
  },
  {
   "cell_type": "code",
   "execution_count": 246,
   "metadata": {},
   "outputs": [
    {
     "data": {
      "text/plain": [
       "213"
      ]
     },
     "execution_count": 246,
     "metadata": {},
     "output_type": "execute_result"
    }
   ],
   "source": [
    "len([x for x in os.listdir(dirt_name) if 'leaf' in x])"
   ]
  },
  {
   "cell_type": "code",
   "execution_count": 247,
   "metadata": {},
   "outputs": [
    {
     "data": {
      "text/plain": [
       "639"
      ]
     },
     "execution_count": 247,
     "metadata": {},
     "output_type": "execute_result"
    }
   ],
   "source": [
    "len([x for x in os.listdir(dirt_name) if 'wine' in x])"
   ]
  },
  {
   "cell_type": "code",
   "execution_count": 248,
   "metadata": {},
   "outputs": [
    {
     "data": {
      "text/plain": [
       "639"
      ]
     },
     "execution_count": 248,
     "metadata": {},
     "output_type": "execute_result"
    }
   ],
   "source": [
    "len([x for x in os.listdir(dirt_name) if 'crime' in x])"
   ]
  },
  {
   "cell_type": "code",
   "execution_count": 249,
   "metadata": {},
   "outputs": [
    {
     "data": {
      "text/plain": [
       "639"
      ]
     },
     "execution_count": 249,
     "metadata": {},
     "output_type": "execute_result"
    }
   ],
   "source": [
    "len([x for x in os.listdir(dirt_name) if 'airfoil' in x])"
   ]
  },
  {
   "cell_type": "code",
   "execution_count": 250,
   "metadata": {},
   "outputs": [
    {
     "data": {
      "text/plain": [
       "639"
      ]
     },
     "execution_count": 250,
     "metadata": {},
     "output_type": "execute_result"
    }
   ],
   "source": [
    "len([x for x in os.listdir(dirt_name) if 'fish' in x])"
   ]
  },
  {
   "cell_type": "code",
   "execution_count": 251,
   "metadata": {},
   "outputs": [
    {
     "data": {
      "text/plain": [
       "639"
      ]
     },
     "execution_count": 251,
     "metadata": {},
     "output_type": "execute_result"
    }
   ],
   "source": [
    "len([x for x in os.listdir(dirt_name) if 'fire' in x])"
   ]
  },
  {
   "cell_type": "code",
   "execution_count": null,
   "metadata": {},
   "outputs": [],
   "source": []
  },
  {
   "cell_type": "code",
   "execution_count": 252,
   "metadata": {},
   "outputs": [
    {
     "data": {
      "text/plain": [
       "4260"
      ]
     },
     "execution_count": 252,
     "metadata": {},
     "output_type": "execute_result"
    }
   ],
   "source": [
    "len(os.listdir(dirt_name))"
   ]
  },
  {
   "cell_type": "code",
   "execution_count": 254,
   "metadata": {},
   "outputs": [],
   "source": [
    "os.listdir().sort()"
   ]
  },
  {
   "cell_type": "code",
   "execution_count": 259,
   "metadata": {},
   "outputs": [],
   "source": [
    "temp = os.listdir(dirt_name)"
   ]
  },
  {
   "cell_type": "code",
   "execution_count": 260,
   "metadata": {},
   "outputs": [],
   "source": [
    "temp.sort()"
   ]
  },
  {
   "cell_type": "code",
   "execution_count": null,
   "metadata": {},
   "outputs": [],
   "source": []
  }
 ],
 "metadata": {
  "kernelspec": {
   "display_name": "Python 3",
   "language": "python",
   "name": "python3"
  },
  "language_info": {
   "codemirror_mode": {
    "name": "ipython",
    "version": 3
   },
   "file_extension": ".py",
   "mimetype": "text/x-python",
   "name": "python",
   "nbconvert_exporter": "python",
   "pygments_lexer": "ipython3",
   "version": "3.7.3"
  },
  "toc": {
   "base_numbering": 1,
   "nav_menu": {},
   "number_sections": false,
   "sideBar": true,
   "skip_h1_title": false,
   "title_cell": "Table of Contents",
   "title_sidebar": "Contents",
   "toc_cell": false,
   "toc_position": {},
   "toc_section_display": true,
   "toc_window_display": false
  }
 },
 "nbformat": 4,
 "nbformat_minor": 2
}
