{
 "cells": [
  {
   "cell_type": "code",
   "execution_count": 3,
   "metadata": {},
   "outputs": [],
   "source": [
    "from sklearn.model_selection import ParameterGrid"
   ]
  },
  {
   "cell_type": "code",
   "execution_count": 4,
   "metadata": {},
   "outputs": [],
   "source": [
    "parameter = {}\n",
    "\n",
    "parameter['linear'] = {'alpha1':[0,10,100], 'alpha2':[0], 'lambda' : [1,10,100], 'epsilon' : [0.5,1,2]}\n",
    "parameter['polynomial'] = {'alpha1':[2,5,8], 'alpha2':[0,10,100], 'lambda' : [1,10,100], 'epsilon' : [0.5,1,2]}\n",
    "parameter['hyperbolic_tangent'] = {'alpha1':[0.5,1,5], 'alpha2':[0,10,100], 'lambda' : [1,10,100], 'epsilon' : [0.5,1,2]}\n",
    "parameter['vovks_real_polynomial'] = {'alpha1':[2,5,8], 'alpha2':[0], 'lambda' : [1,10,100], 'epsilon' : [0.5,1,2]}\n",
    "parameter['vovks_infinite_polynomial'] = {'alpha1':[0], 'alpha2':[0], 'lambda' : [1,10,100], 'epsilon' : [0.5,1,2]}\n",
    "parameter['gaussian'] = {'alpha1':[0.5,1,5], 'alpha2':[0], 'lambda' : [1,10,100], 'epsilon' : [0.5,1,2]}\n",
    "parameter['laplacian'] = {'alpha1':[0.5,1,5], 'alpha2':[0], 'lambda' : [1,10,100], 'epsilon' : [0.5,1,2]}\n",
    "parameter['rational_quadratic'] = {'alpha1':[1,10,100], 'alpha2':[0], 'lambda' : [1,10,100], 'epsilon' : [0.5,1,2]}\n",
    "parameter['multiquadratic'] = {'alpha1':[1,5,10], 'alpha2':[0], 'lambda' : [1,10,100], 'epsilon' : [0.5,1,2]}\n",
    "parameter['inverse_multiquadratic'] = {'alpha1':[1,5,10], 'alpha2':[0], 'lambda' : [1,10,100], 'epsilon' : [0.5,1,2]}\n",
    "parameter['circular'] = {'alpha1':[0.5,1,5], 'alpha2':[0], 'lambda' : [1,10,100], 'epsilon' : [0.5,1,2]}\n",
    "parameter['spherical'] = {'alpha1':[0.5,1,5], 'alpha2':[0], 'lambda' : [1,10,100], 'epsilon' : [0.5,1,2]}\n",
    "parameter['wave'] = {'alpha1':[0.5,1,5], 'alpha2':[0], 'lambda' : [1,10,100], 'epsilon' : [0.5,1,2]}\n",
    "parameter['power'] = {'alpha1':[2,2.2,2.5], 'alpha2':[0], 'lambda' : [1,10,100], 'epsilon' : [0.5,1,2]}\n",
    "parameter['log'] = {'alpha1':[2,5,8], 'alpha2':[0], 'lambda' : [1,10,100], 'epsilon' : [0.5,1,2]}\n",
    "parameter['generalized_tstudent'] = {'alpha1':[2,5,8], 'alpha2':[0], 'lambda' : [1,10,100], 'epsilon' : [0.5,1,2]}\n",
    "parameter['anova'] = {'alpha1':[0.5,1,5], 'alpha2':[2,2.2,2.5], 'lambda' : [1,10,100], 'epsilon' : [0.5,1,2]}\n",
    "parameter['spline'] = {'alpha1':[0], 'alpha2':[0], 'lambda' : [1,10,100], 'epsilon' : [0.5,1,2]}\n",
    "parameter['chi_square'] = {'alpha1':[0], 'alpha2':[0], 'lambda' : [1,10,100], 'epsilon' : [0.5,1,2]}\n",
    "parameter['histogram Intersection'] = {'alpha1':[0], 'alpha2':[0], 'lambda' : [1,10,100], 'epsilon' : [0.5,1,2]}\n",
    "parameter['hellingers'] = {'alpha1':[0], 'alpha2':[0], 'lambda' : [1,10,100], 'epsilon' : [0.5,1,2]}\n"
   ]
  },
  {
   "cell_type": "code",
   "execution_count": 5,
   "metadata": {},
   "outputs": [],
   "source": [
    "kernels = list(parameter.keys())"
   ]
  },
  {
   "cell_type": "code",
   "execution_count": 6,
   "metadata": {},
   "outputs": [],
   "source": [
    "data_names = ['breast_cancer'\n",
    "             ,'yeast'\n",
    "             ,'segmentation'\n",
    "             ,'waveform'\n",
    "             ,'leaf'\n",
    "             ,'wine'\n",
    "             ,'crime'\n",
    "             ,'airfoil'\n",
    "             ,'fire'\n",
    "             ,'fish']\n",
    "classification = ['breast_cancer','yeast','segmentation','waveform','leaf']"
   ]
  },
  {
   "cell_type": "code",
   "execution_count": 7,
   "metadata": {},
   "outputs": [],
   "source": [
    "txt = open('parameter.txt','wt')\n",
    "\n",
    "for data in data_names:\n",
    "    for kernel in kernels:\n",
    "        for pars in ParameterGrid(parameter[kernel]):\n",
    "            \n",
    "            if (data in classification) and (pars['epsilon'] > 0.5):\n",
    "                continue\n",
    "            txt.write('python evaluate.py ' + data + ' ' + kernel + ' ' + str(pars['alpha1']) + ' ' + str(pars['alpha2']) + ' ' + str(pars['lambda']) + ' ' + str(pars['epsilon']) + '\\n')\n",
    "\n",
    "txt.close()\n"
   ]
  },
  {
   "cell_type": "code",
   "execution_count": null,
   "metadata": {},
   "outputs": [],
   "source": []
  },
  {
   "cell_type": "code",
   "execution_count": null,
   "metadata": {},
   "outputs": [],
   "source": []
  },
  {
   "cell_type": "code",
   "execution_count": null,
   "metadata": {},
   "outputs": [],
   "source": []
  }
 ],
 "metadata": {
  "kernelspec": {
   "display_name": "Python 3",
   "language": "python",
   "name": "python3"
  },
  "language_info": {
   "codemirror_mode": {
    "name": "ipython",
    "version": 3
   },
   "file_extension": ".py",
   "mimetype": "text/x-python",
   "name": "python",
   "nbconvert_exporter": "python",
   "pygments_lexer": "ipython3",
   "version": "3.7.3"
  },
  "toc": {
   "base_numbering": 1,
   "nav_menu": {},
   "number_sections": false,
   "sideBar": true,
   "skip_h1_title": false,
   "title_cell": "Table of Contents",
   "title_sidebar": "Contents",
   "toc_cell": false,
   "toc_position": {},
   "toc_section_display": true,
   "toc_window_display": false
  }
 },
 "nbformat": 4,
 "nbformat_minor": 2
}
